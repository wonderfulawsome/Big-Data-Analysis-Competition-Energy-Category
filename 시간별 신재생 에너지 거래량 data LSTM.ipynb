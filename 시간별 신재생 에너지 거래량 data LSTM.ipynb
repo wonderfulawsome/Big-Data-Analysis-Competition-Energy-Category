{
 "cells": [
  {
   "cell_type": "code",
   "execution_count": 1,
   "metadata": {},
   "outputs": [],
   "source": [
    "import pandas as pd\n",
    "import numpy as np\n",
    "import tensorflow as tf\n",
    "\n",
    "# 데이터 불러오기\n",
    "data = pd.read_csv('C:/Users/82106/Desktop/모음/데이터 분석 프로젝트 2/데이콘 빅데이터 분석/data/data/한국전력거래소_시간별 신재생에너지 거래량_20220331.csv',encoding='cp949')"
   ]
  },
  {
   "cell_type": "markdown",
   "metadata": {},
   "source": [
    "### 거래일을 datetime로 변환"
   ]
  },
  {
   "cell_type": "code",
   "execution_count": 2,
   "metadata": {},
   "outputs": [],
   "source": [
    "# '거래일' 열을 datetime 형식으로 변환\n",
    "data['거래일'] = pd.to_datetime(data['거래일'])\n",
    "\n",
    "# '거래일' 열을 float 형식으로 변환 (시간 차이를 일 단위로 변환)\n",
    "reference_date = data['거래일'].min()\n",
    "data['거래일'] = (data['거래일'] - reference_date).dt.total_seconds() / (24 * 3600)"
   ]
  },
  {
   "cell_type": "markdown",
   "metadata": {},
   "source": [
    "### 데이터 분할"
   ]
  },
  {
   "cell_type": "code",
   "execution_count": 3,
   "metadata": {},
   "outputs": [],
   "source": [
    "# 데이터셋 분할 (학습 데이터와 테스트 데이터)\n",
    "train_size = int(len(data) * 0.8)\n",
    "train_data = data[:train_size]\n",
    "test_data = data[train_size:]"
   ]
  },
  {
   "cell_type": "markdown",
   "metadata": {},
   "source": [
    "### 모델 입력 형식으로 변환"
   ]
  },
  {
   "cell_type": "markdown",
   "metadata": {},
   "source": [
    "- **create_sequences 함수**:\n",
    "  - 시계열 데이터를 모델 학습 형식으로 전처리하는 역할\n",
    "  - `seq_length` (여기서는 `num_unrollings`로 설정된 값)에 따라 시퀀스를 **입력 (X)** 와 **타깃 (y)** 으로 분리하는 기능\n",
    "  \n",
    "  - 예시: `seq_length`가 10일 때, 처음 10개의 데이터 포인트를 입력 (X)으로, 그 다음 데이터 포인트를 타깃 (y)으로 설정하여 학습 데이터 셋을 구성하는 방식"
   ]
  },
  {
   "cell_type": "code",
   "execution_count": 5,
   "metadata": {},
   "outputs": [],
   "source": [
    "# 시계열 데이터 생성 함수\n",
    "def create_sequences(data, seq_length):\n",
    "    xs = []\n",
    "    ys = []\n",
    "    for i in range(len(data) - seq_length):\n",
    "        x = data.iloc[i:i+seq_length].values\n",
    "        y = data.iloc[i+seq_length].values\n",
    "        xs.append(x)\n",
    "        ys.append(y)\n",
    "    return np.array(xs), np.array(ys)\n",
    "\n",
    "num_unrollings = 10\n",
    "seq_length = num_unrollings\n",
    "X_train, y_train = create_sequences(train_data, seq_length)\n",
    "X_test, y_test = create_sequences(test_data, seq_length)"
   ]
  },
  {
   "cell_type": "code",
   "execution_count": 6,
   "metadata": {},
   "outputs": [
    {
     "name": "stdout",
     "output_type": "stream",
     "text": [
      "(71855, 10, 11) (71855, 11)\n",
      "(17957, 10, 11) (17957, 11)\n"
     ]
    }
   ],
   "source": [
    "print(X_train.shape, y_train.shape)\n",
    "print(X_test.shape, y_test.shape)"
   ]
  },
  {
   "cell_type": "markdown",
   "metadata": {},
   "source": [
    "### Batch 생성"
   ]
  },
  {
   "cell_type": "markdown",
   "metadata": {},
   "source": [
    "- **BatchGenerator 클래스**:\n",
    "  - 시계열 데이터를 **배치 단위**로 쪼개어 모델에 입력할 수 있는 형태로 변환하는 기능 제공\n",
    "  - **초기화** 시 `batch_size`와 `num_unrollings` 값을 받아, 이를 기반으로 데이터를 순차적으로 배치로 구성\n",
    "  - 각 **배치(batch)**는 지정된 `batch_size`만큼의 데이터 샘플과 `num_unrollings` 길이의 시퀀스를 포함\n",
    "\n",
    "- **_next_batch 메서드**:\n",
    "  - 각 배치를 생성하여 반환하는 메서드\n",
    "  - `batch_size` 크기만큼의 샘플을 생성하며, 각 샘플은 `num_unrollings` 길이의 시퀀스를 가짐\n",
    "  - 데이터 끝에 도달하면 **순환 방식**으로 데이터를 이어서 사용하도록 설정\n",
    "\n",
    "- **next 메서드**:\n",
    "  - 여러 배치를 **순차적으로 생성하여 반환**\n",
    "  - `last_batch`를 업데이트하여 **다음 배치를 이어서 생성**\n"
   ]
  },
  {
   "cell_type": "markdown",
   "metadata": {},
   "source": [
    "#####  시계열 데이터를 모델 학습에 적합하게 배치로 나누어 제공"
   ]
  },
  {
   "cell_type": "code",
   "execution_count": 7,
   "metadata": {},
   "outputs": [
    {
     "name": "stdout",
     "output_type": "stream",
     "text": [
      "Batch 0 shape: (32, 10, 11)\n",
      "Batch 1 shape: (32, 10, 11)\n",
      "Batch 2 shape: (32, 10, 11)\n",
      "Batch 3 shape: (32, 10, 11)\n",
      "Batch 4 shape: (32, 10, 11)\n",
      "Batch 5 shape: (32, 10, 11)\n",
      "Batch 6 shape: (32, 10, 11)\n",
      "Batch 7 shape: (32, 10, 11)\n",
      "Batch 8 shape: (32, 10, 11)\n",
      "Batch 9 shape: (32, 10, 11)\n",
      "Batch 10 shape: (32, 10, 11)\n"
     ]
    }
   ],
   "source": [
    "class BatchGenerator(object):\n",
    "    def __init__(self, data, batch_size, num_unrollings):\n",
    "        self.data = data\n",
    "        self.batch_size = batch_size\n",
    "        self.num_unrollings = num_unrollings\n",
    "        self.data_len = len(data)\n",
    "        segment = self.data_len // batch_size\n",
    "        self.cursor = [offset * segment for offset in range(batch_size)]\n",
    "        self.last_batch = self._next_batch()\n",
    "\n",
    "    def _next_batch(self):\n",
    "        batch = np.zeros((self.batch_size, self.num_unrollings, self.data.shape[1]))\n",
    "        for b in range(self.batch_size):\n",
    "            for u in range(self.num_unrollings):\n",
    "                batch[b, u] = self.data.iloc[self.cursor[b]]\n",
    "                self.cursor[b] = (self.cursor[b] + 1) % self.data_len\n",
    "        return batch\n",
    "    \n",
    "    def next(self):\n",
    "        batches = [self.last_batch]\n",
    "        for step in range(self.num_unrollings):\n",
    "            batches.append(self._next_batch())\n",
    "        self.last_batch = batches[-1]\n",
    "        return batches\n",
    "\n",
    "# BatchGenerator 사용 예제\n",
    "batch_size = 32\n",
    "num_unrollings = 10\n",
    "\n",
    "# BatchGenerator 인스턴스 생성\n",
    "train_generator = BatchGenerator(train_data, batch_size, num_unrollings)\n",
    "\n",
    "# 배치 생성 예제\n",
    "example_batches = train_generator.next()\n",
    "for i, batch in enumerate(example_batches):\n",
    "    print(f\"Batch {i} shape: {batch.shape}\")"
   ]
  },
  {
   "cell_type": "markdown",
   "metadata": {},
   "source": [
    "### 전체 신재생 에너지 예측을 위해 열 제거"
   ]
  },
  {
   "cell_type": "code",
   "execution_count": 8,
   "metadata": {},
   "outputs": [],
   "source": [
    "# 필요하지 않은 열 제거 (예: '거래일', '거래시간' 제외)\n",
    "features = ['거래일', '거래시간', '연료전지', '석탄가스화복합화력(IGCC)', '태양광', '풍력', '수력', '해양에너지', '바이오에너지', '폐기물에너지', '신재생 합계']\n",
    "data = data[features]"
   ]
  },
  {
   "cell_type": "markdown",
   "metadata": {},
   "source": [
    "### 하이퍼파라미터 설정"
   ]
  },
  {
   "cell_type": "code",
   "execution_count": 9,
   "metadata": {},
   "outputs": [],
   "source": [
    "# 임베딩 크기(Embedding Size) 정의\n",
    "embedding_size = 128  # 각 특징을 고차원 공간에 매핑할 때 사용하는 벡터의 크기\n",
    "\n",
    "# LSTM 노드 수 정의\n",
    "num_nodes = 64  # 각 LSTM 레이어에서 사용할 노드(유닛)의 수\n",
    "\n",
    "# Dropout 확률 정의\n",
    "keep_prob_train = 0.5  # 학습 시 50%의 노드를 비활성화하여 과적합 방지\n",
    "keep_prob_sample = 1.0  # 검증 시 dropout을 사용하지 않음\n",
    "\n",
    "# 기타 하이퍼파라미터\n",
    "batch_size = 32  # 한 번에 모델에 입력으로 들어가는 데이터의 샘플 수\n",
    "num_unrollings = 10  # LSTM이 한 번에 처리할 시퀀스의 길이\n",
    "\n",
    "num_features = len(features)"
   ]
  },
  {
   "cell_type": "markdown",
   "metadata": {},
   "source": [
    "### TensorFlow 모델 정의와 모델 컴파일"
   ]
  },
  {
   "cell_type": "markdown",
   "metadata": {},
   "source": [
    "- **입력 레이어**:\n",
    "  - 입력 형태는 `(None, 10, 11)`으로, **배치 크기와 관계없이** 시퀀스 길이 10과 특징 개수 11을 받음\n",
    "\n",
    "- **RenewableEnergyModel 레이어**:\n",
    "  - 재생 에너지 데이터를 예측하는 **사용자 정의 모델 레이어**\n",
    "  - 내부에는 **임베딩(Dense) 레이어**와 **두 개의 LSTM 레이어**가 포함되어 있으며, 마지막에 **Dense 레이어**로 출력 값을 예측함\n",
    "\n",
    "- **총 파라미터 수**:\n",
    "  - 총 **84,683개**의 파라미터로 구성, 모두 **훈련 가능한 파라미터**"
   ]
  },
  {
   "cell_type": "code",
   "execution_count": 10,
   "metadata": {},
   "outputs": [
    {
     "name": "stdout",
     "output_type": "stream",
     "text": [
      "WARNING:tensorflow:From c:\\Users\\82106\\AppData\\Local\\Programs\\Python\\Python310\\lib\\site-packages\\keras\\src\\backend\\tensorflow\\core.py:204: The name tf.placeholder is deprecated. Please use tf.compat.v1.placeholder instead.\n",
      "\n"
     ]
    },
    {
     "name": "stderr",
     "output_type": "stream",
     "text": [
      "c:\\Users\\82106\\AppData\\Local\\Programs\\Python\\Python310\\lib\\site-packages\\keras\\src\\layers\\layer.py:391: UserWarning: `build()` was called on layer 'renewable_energy_model', however the layer does not have a `build()` method implemented and it looks like it has unbuilt state. This will cause the layer to be marked as built, despite not being actually built, which may cause failures down the line. Make sure to implement a proper `build()` method.\n",
      "  warnings.warn(\n"
     ]
    },
    {
     "data": {
      "text/html": [
       "<pre style=\"white-space:pre;overflow-x:auto;line-height:normal;font-family:Menlo,'DejaVu Sans Mono',consolas,'Courier New',monospace\"><span style=\"font-weight: bold\">Model: \"functional\"</span>\n",
       "</pre>\n"
      ],
      "text/plain": [
       "\u001b[1mModel: \"functional\"\u001b[0m\n"
      ]
     },
     "metadata": {},
     "output_type": "display_data"
    },
    {
     "data": {
      "text/html": [
       "<pre style=\"white-space:pre;overflow-x:auto;line-height:normal;font-family:Menlo,'DejaVu Sans Mono',consolas,'Courier New',monospace\">┏━━━━━━━━━━━━━━━━━━━━━━━━━━━━━━━━━┳━━━━━━━━━━━━━━━━━━━━━━━━┳━━━━━━━━━━━━━━━┓\n",
       "┃<span style=\"font-weight: bold\"> Layer (type)                    </span>┃<span style=\"font-weight: bold\"> Output Shape           </span>┃<span style=\"font-weight: bold\">       Param # </span>┃\n",
       "┡━━━━━━━━━━━━━━━━━━━━━━━━━━━━━━━━━╇━━━━━━━━━━━━━━━━━━━━━━━━╇━━━━━━━━━━━━━━━┩\n",
       "│ input_layer (<span style=\"color: #0087ff; text-decoration-color: #0087ff\">InputLayer</span>)        │ (<span style=\"color: #00d7ff; text-decoration-color: #00d7ff\">None</span>, <span style=\"color: #00af00; text-decoration-color: #00af00\">10</span>, <span style=\"color: #00af00; text-decoration-color: #00af00\">11</span>)         │             <span style=\"color: #00af00; text-decoration-color: #00af00\">0</span> │\n",
       "├─────────────────────────────────┼────────────────────────┼───────────────┤\n",
       "│ renewable_energy_model          │ (<span style=\"color: #00d7ff; text-decoration-color: #00d7ff\">None</span>, <span style=\"color: #00af00; text-decoration-color: #00af00\">11</span>)             │        <span style=\"color: #00af00; text-decoration-color: #00af00\">84,683</span> │\n",
       "│ (<span style=\"color: #0087ff; text-decoration-color: #0087ff\">RenewableEnergyModel</span>)          │                        │               │\n",
       "└─────────────────────────────────┴────────────────────────┴───────────────┘\n",
       "</pre>\n"
      ],
      "text/plain": [
       "┏━━━━━━━━━━━━━━━━━━━━━━━━━━━━━━━━━┳━━━━━━━━━━━━━━━━━━━━━━━━┳━━━━━━━━━━━━━━━┓\n",
       "┃\u001b[1m \u001b[0m\u001b[1mLayer (type)                   \u001b[0m\u001b[1m \u001b[0m┃\u001b[1m \u001b[0m\u001b[1mOutput Shape          \u001b[0m\u001b[1m \u001b[0m┃\u001b[1m \u001b[0m\u001b[1m      Param #\u001b[0m\u001b[1m \u001b[0m┃\n",
       "┡━━━━━━━━━━━━━━━━━━━━━━━━━━━━━━━━━╇━━━━━━━━━━━━━━━━━━━━━━━━╇━━━━━━━━━━━━━━━┩\n",
       "│ input_layer (\u001b[38;5;33mInputLayer\u001b[0m)        │ (\u001b[38;5;45mNone\u001b[0m, \u001b[38;5;34m10\u001b[0m, \u001b[38;5;34m11\u001b[0m)         │             \u001b[38;5;34m0\u001b[0m │\n",
       "├─────────────────────────────────┼────────────────────────┼───────────────┤\n",
       "│ renewable_energy_model          │ (\u001b[38;5;45mNone\u001b[0m, \u001b[38;5;34m11\u001b[0m)             │        \u001b[38;5;34m84,683\u001b[0m │\n",
       "│ (\u001b[38;5;33mRenewableEnergyModel\u001b[0m)          │                        │               │\n",
       "└─────────────────────────────────┴────────────────────────┴───────────────┘\n"
      ]
     },
     "metadata": {},
     "output_type": "display_data"
    },
    {
     "data": {
      "text/html": [
       "<pre style=\"white-space:pre;overflow-x:auto;line-height:normal;font-family:Menlo,'DejaVu Sans Mono',consolas,'Courier New',monospace\"><span style=\"font-weight: bold\"> Total params: </span><span style=\"color: #00af00; text-decoration-color: #00af00\">84,683</span> (330.79 KB)\n",
       "</pre>\n"
      ],
      "text/plain": [
       "\u001b[1m Total params: \u001b[0m\u001b[38;5;34m84,683\u001b[0m (330.79 KB)\n"
      ]
     },
     "metadata": {},
     "output_type": "display_data"
    },
    {
     "data": {
      "text/html": [
       "<pre style=\"white-space:pre;overflow-x:auto;line-height:normal;font-family:Menlo,'DejaVu Sans Mono',consolas,'Courier New',monospace\"><span style=\"font-weight: bold\"> Trainable params: </span><span style=\"color: #00af00; text-decoration-color: #00af00\">84,683</span> (330.79 KB)\n",
       "</pre>\n"
      ],
      "text/plain": [
       "\u001b[1m Trainable params: \u001b[0m\u001b[38;5;34m84,683\u001b[0m (330.79 KB)\n"
      ]
     },
     "metadata": {},
     "output_type": "display_data"
    },
    {
     "data": {
      "text/html": [
       "<pre style=\"white-space:pre;overflow-x:auto;line-height:normal;font-family:Menlo,'DejaVu Sans Mono',consolas,'Courier New',monospace\"><span style=\"font-weight: bold\"> Non-trainable params: </span><span style=\"color: #00af00; text-decoration-color: #00af00\">0</span> (0.00 B)\n",
       "</pre>\n"
      ],
      "text/plain": [
       "\u001b[1m Non-trainable params: \u001b[0m\u001b[38;5;34m0\u001b[0m (0.00 B)\n"
      ]
     },
     "metadata": {},
     "output_type": "display_data"
    }
   ],
   "source": [
    "import tensorflow as tf\n",
    "from tensorflow.keras.layers import LSTM, Dense, Dropout, Input\n",
    "\n",
    "# TensorFlow 모델 정의\n",
    "class RenewableEnergyModel(tf.keras.Model):\n",
    "    def __init__(self, num_nodes, embedding_size, num_features, dropout_rate):\n",
    "        super(RenewableEnergyModel, self).__init__()\n",
    "        self.embedding = Dense(embedding_size, activation='relu')\n",
    "        self.lstm1 = LSTM(num_nodes, return_sequences=True)\n",
    "        self.lstm2 = LSTM(num_nodes)\n",
    "        self.dropout = Dropout(dropout_rate)\n",
    "        self.dense = Dense(num_features)\n",
    "    \n",
    "    def call(self, inputs, training=False):\n",
    "        x = self.embedding(inputs)\n",
    "        x = self.lstm1(x)\n",
    "        x = self.lstm2(x)\n",
    "        if training:\n",
    "            x = self.dropout(x, training=training)\n",
    "        return self.dense(x)\n",
    "\n",
    "# 입력 형태 정의\n",
    "inputs = Input(shape=(num_unrollings, num_features))\n",
    "model = RenewableEnergyModel(num_nodes, embedding_size, num_features, keep_prob_train)\n",
    "outputs = model(inputs)\n",
    "\n",
    "# 모델 컴파일\n",
    "model = tf.keras.Model(inputs=inputs, outputs=outputs)\n",
    "model.compile(optimizer='adam', loss='mse')\n",
    "\n",
    "# 모델 요약 출력\n",
    "model.summary()\n"
   ]
  },
  {
   "cell_type": "markdown",
   "metadata": {},
   "source": [
    "### 모델 학습 및 평가"
   ]
  },
  {
   "cell_type": "code",
   "execution_count": 11,
   "metadata": {},
   "outputs": [
    {
     "name": "stdout",
     "output_type": "stream",
     "text": [
      "Epoch 1/50\n",
      "\u001b[1m2021/2021\u001b[0m \u001b[32m━━━━━━━━━━━━━━━━━━━━\u001b[0m\u001b[37m\u001b[0m \u001b[1m26s\u001b[0m 10ms/step - loss: 786188.8125 - val_loss: 1392815.5000\n",
      "Epoch 2/50\n",
      "\u001b[1m2021/2021\u001b[0m \u001b[32m━━━━━━━━━━━━━━━━━━━━\u001b[0m\u001b[37m\u001b[0m \u001b[1m14s\u001b[0m 7ms/step - loss: 673977.0625 - val_loss: 1260611.5000\n",
      "Epoch 3/50\n",
      "\u001b[1m2021/2021\u001b[0m \u001b[32m━━━━━━━━━━━━━━━━━━━━\u001b[0m\u001b[37m\u001b[0m \u001b[1m13s\u001b[0m 6ms/step - loss: 585262.1250 - val_loss: 1146912.8750\n",
      "Epoch 4/50\n",
      "\u001b[1m2021/2021\u001b[0m \u001b[32m━━━━━━━━━━━━━━━━━━━━\u001b[0m\u001b[37m\u001b[0m \u001b[1m13s\u001b[0m 6ms/step - loss: 509220.8750 - val_loss: 1044898.1875\n",
      "Epoch 5/50\n",
      "\u001b[1m2021/2021\u001b[0m \u001b[32m━━━━━━━━━━━━━━━━━━━━\u001b[0m\u001b[37m\u001b[0m \u001b[1m13s\u001b[0m 6ms/step - loss: 442767.2188 - val_loss: 951953.9375\n",
      "Epoch 6/50\n",
      "\u001b[1m2021/2021\u001b[0m \u001b[32m━━━━━━━━━━━━━━━━━━━━\u001b[0m\u001b[37m\u001b[0m \u001b[1m14s\u001b[0m 7ms/step - loss: 381686.0000 - val_loss: 867384.5000\n",
      "Epoch 7/50\n",
      "\u001b[1m2021/2021\u001b[0m \u001b[32m━━━━━━━━━━━━━━━━━━━━\u001b[0m\u001b[37m\u001b[0m \u001b[1m14s\u001b[0m 7ms/step - loss: 331114.9375 - val_loss: 791053.6875\n",
      "Epoch 8/50\n",
      "\u001b[1m2021/2021\u001b[0m \u001b[32m━━━━━━━━━━━━━━━━━━━━\u001b[0m\u001b[37m\u001b[0m \u001b[1m15s\u001b[0m 7ms/step - loss: 287218.3125 - val_loss: 722672.8125\n",
      "Epoch 9/50\n",
      "\u001b[1m2021/2021\u001b[0m \u001b[32m━━━━━━━━━━━━━━━━━━━━\u001b[0m\u001b[37m\u001b[0m \u001b[1m15s\u001b[0m 7ms/step - loss: 255721.2344 - val_loss: 661388.6250\n",
      "Epoch 10/50\n",
      "\u001b[1m2021/2021\u001b[0m \u001b[32m━━━━━━━━━━━━━━━━━━━━\u001b[0m\u001b[37m\u001b[0m \u001b[1m18s\u001b[0m 9ms/step - loss: 223428.8438 - val_loss: 604902.5625\n",
      "Epoch 11/50\n",
      "\u001b[1m2021/2021\u001b[0m \u001b[32m━━━━━━━━━━━━━━━━━━━━\u001b[0m\u001b[37m\u001b[0m \u001b[1m15s\u001b[0m 8ms/step - loss: 201875.7188 - val_loss: 555947.6250\n",
      "Epoch 12/50\n",
      "\u001b[1m2021/2021\u001b[0m \u001b[32m━━━━━━━━━━━━━━━━━━━━\u001b[0m\u001b[37m\u001b[0m \u001b[1m21s\u001b[0m 10ms/step - loss: 182789.2656 - val_loss: 516270.8750\n",
      "Epoch 13/50\n",
      "\u001b[1m2021/2021\u001b[0m \u001b[32m━━━━━━━━━━━━━━━━━━━━\u001b[0m\u001b[37m\u001b[0m \u001b[1m18s\u001b[0m 9ms/step - loss: 169868.4062 - val_loss: 485457.7188\n",
      "Epoch 14/50\n",
      "\u001b[1m2021/2021\u001b[0m \u001b[32m━━━━━━━━━━━━━━━━━━━━\u001b[0m\u001b[37m\u001b[0m \u001b[1m15s\u001b[0m 7ms/step - loss: 156680.5469 - val_loss: 461694.2500\n",
      "Epoch 15/50\n",
      "\u001b[1m2021/2021\u001b[0m \u001b[32m━━━━━━━━━━━━━━━━━━━━\u001b[0m\u001b[37m\u001b[0m \u001b[1m14s\u001b[0m 7ms/step - loss: 149415.1094 - val_loss: 443604.4688\n",
      "Epoch 16/50\n",
      "\u001b[1m2021/2021\u001b[0m \u001b[32m━━━━━━━━━━━━━━━━━━━━\u001b[0m\u001b[37m\u001b[0m \u001b[1m15s\u001b[0m 7ms/step - loss: 141874.4531 - val_loss: 429896.1250\n",
      "Epoch 17/50\n",
      "\u001b[1m2021/2021\u001b[0m \u001b[32m━━━━━━━━━━━━━━━━━━━━\u001b[0m\u001b[37m\u001b[0m \u001b[1m15s\u001b[0m 7ms/step - loss: 139649.4531 - val_loss: 420118.6562\n",
      "Epoch 18/50\n",
      "\u001b[1m2021/2021\u001b[0m \u001b[32m━━━━━━━━━━━━━━━━━━━━\u001b[0m\u001b[37m\u001b[0m \u001b[1m14s\u001b[0m 7ms/step - loss: 136564.6250 - val_loss: 413554.9688\n",
      "Epoch 19/50\n",
      "\u001b[1m2021/2021\u001b[0m \u001b[32m━━━━━━━━━━━━━━━━━━━━\u001b[0m\u001b[37m\u001b[0m \u001b[1m14s\u001b[0m 7ms/step - loss: 135732.4062 - val_loss: 410034.5312\n",
      "Epoch 20/50\n",
      "\u001b[1m2021/2021\u001b[0m \u001b[32m━━━━━━━━━━━━━━━━━━━━\u001b[0m\u001b[37m\u001b[0m \u001b[1m13s\u001b[0m 7ms/step - loss: 135735.4062 - val_loss: 408464.1250\n",
      "Epoch 21/50\n",
      "\u001b[1m2021/2021\u001b[0m \u001b[32m━━━━━━━━━━━━━━━━━━━━\u001b[0m\u001b[37m\u001b[0m \u001b[1m13s\u001b[0m 6ms/step - loss: 135140.6094 - val_loss: 407842.8125\n",
      "Epoch 22/50\n",
      "\u001b[1m2021/2021\u001b[0m \u001b[32m━━━━━━━━━━━━━━━━━━━━\u001b[0m\u001b[37m\u001b[0m \u001b[1m14s\u001b[0m 7ms/step - loss: 134907.1875 - val_loss: 407356.5938\n",
      "Epoch 23/50\n",
      "\u001b[1m2021/2021\u001b[0m \u001b[32m━━━━━━━━━━━━━━━━━━━━\u001b[0m\u001b[37m\u001b[0m \u001b[1m14s\u001b[0m 7ms/step - loss: 134301.0312 - val_loss: 406827.0312\n",
      "Epoch 24/50\n",
      "\u001b[1m2021/2021\u001b[0m \u001b[32m━━━━━━━━━━━━━━━━━━━━\u001b[0m\u001b[37m\u001b[0m \u001b[1m13s\u001b[0m 6ms/step - loss: 134320.2656 - val_loss: 406738.2500\n",
      "Epoch 25/50\n",
      "\u001b[1m2021/2021\u001b[0m \u001b[32m━━━━━━━━━━━━━━━━━━━━\u001b[0m\u001b[37m\u001b[0m \u001b[1m13s\u001b[0m 7ms/step - loss: 135377.8281 - val_loss: 406734.3125\n",
      "Epoch 26/50\n",
      "\u001b[1m2021/2021\u001b[0m \u001b[32m━━━━━━━━━━━━━━━━━━━━\u001b[0m\u001b[37m\u001b[0m \u001b[1m13s\u001b[0m 7ms/step - loss: 136014.0469 - val_loss: 406865.1562\n",
      "Epoch 27/50\n",
      "\u001b[1m2021/2021\u001b[0m \u001b[32m━━━━━━━━━━━━━━━━━━━━\u001b[0m\u001b[37m\u001b[0m \u001b[1m14s\u001b[0m 7ms/step - loss: 135056.2969 - val_loss: 406673.8750\n",
      "Epoch 28/50\n",
      "\u001b[1m2021/2021\u001b[0m \u001b[32m━━━━━━━━━━━━━━━━━━━━\u001b[0m\u001b[37m\u001b[0m \u001b[1m13s\u001b[0m 7ms/step - loss: 135266.7969 - val_loss: 406706.3125\n",
      "Epoch 29/50\n",
      "\u001b[1m2021/2021\u001b[0m \u001b[32m━━━━━━━━━━━━━━━━━━━━\u001b[0m\u001b[37m\u001b[0m \u001b[1m13s\u001b[0m 7ms/step - loss: 134661.8125 - val_loss: 406680.2188\n",
      "Epoch 30/50\n",
      "\u001b[1m2021/2021\u001b[0m \u001b[32m━━━━━━━━━━━━━━━━━━━━\u001b[0m\u001b[37m\u001b[0m \u001b[1m13s\u001b[0m 7ms/step - loss: 135505.1719 - val_loss: 406687.8750\n",
      "Epoch 31/50\n",
      "\u001b[1m2021/2021\u001b[0m \u001b[32m━━━━━━━━━━━━━━━━━━━━\u001b[0m\u001b[37m\u001b[0m \u001b[1m13s\u001b[0m 7ms/step - loss: 136277.4375 - val_loss: 406549.1875\n",
      "Epoch 32/50\n",
      "\u001b[1m2021/2021\u001b[0m \u001b[32m━━━━━━━━━━━━━━━━━━━━\u001b[0m\u001b[37m\u001b[0m \u001b[1m14s\u001b[0m 7ms/step - loss: 135111.7500 - val_loss: 406361.5938\n",
      "Epoch 33/50\n",
      "\u001b[1m2021/2021\u001b[0m \u001b[32m━━━━━━━━━━━━━━━━━━━━\u001b[0m\u001b[37m\u001b[0m \u001b[1m14s\u001b[0m 7ms/step - loss: 136654.4688 - val_loss: 406799.2812\n",
      "Epoch 34/50\n",
      "\u001b[1m2021/2021\u001b[0m \u001b[32m━━━━━━━━━━━━━━━━━━━━\u001b[0m\u001b[37m\u001b[0m \u001b[1m14s\u001b[0m 7ms/step - loss: 135957.9062 - val_loss: 406840.4062\n",
      "Epoch 35/50\n",
      "\u001b[1m2021/2021\u001b[0m \u001b[32m━━━━━━━━━━━━━━━━━━━━\u001b[0m\u001b[37m\u001b[0m \u001b[1m13s\u001b[0m 6ms/step - loss: 135799.8125 - val_loss: 406661.8438\n",
      "Epoch 36/50\n",
      "\u001b[1m2021/2021\u001b[0m \u001b[32m━━━━━━━━━━━━━━━━━━━━\u001b[0m\u001b[37m\u001b[0m \u001b[1m14s\u001b[0m 7ms/step - loss: 136056.9688 - val_loss: 406686.5938\n",
      "Epoch 37/50\n",
      "\u001b[1m2021/2021\u001b[0m \u001b[32m━━━━━━━━━━━━━━━━━━━━\u001b[0m\u001b[37m\u001b[0m \u001b[1m14s\u001b[0m 7ms/step - loss: 135347.8438 - val_loss: 406628.6875\n",
      "Epoch 38/50\n",
      "\u001b[1m2021/2021\u001b[0m \u001b[32m━━━━━━━━━━━━━━━━━━━━\u001b[0m\u001b[37m\u001b[0m \u001b[1m14s\u001b[0m 7ms/step - loss: 135286.7500 - val_loss: 406693.3750\n",
      "Epoch 39/50\n",
      "\u001b[1m2021/2021\u001b[0m \u001b[32m━━━━━━━━━━━━━━━━━━━━\u001b[0m\u001b[37m\u001b[0m \u001b[1m14s\u001b[0m 7ms/step - loss: 135588.8125 - val_loss: 406755.2500\n",
      "Epoch 40/50\n",
      "\u001b[1m2021/2021\u001b[0m \u001b[32m━━━━━━━━━━━━━━━━━━━━\u001b[0m\u001b[37m\u001b[0m \u001b[1m13s\u001b[0m 7ms/step - loss: 135621.5781 - val_loss: 406674.0625\n",
      "Epoch 41/50\n",
      "\u001b[1m2021/2021\u001b[0m \u001b[32m━━━━━━━━━━━━━━━━━━━━\u001b[0m\u001b[37m\u001b[0m \u001b[1m13s\u001b[0m 7ms/step - loss: 135620.9531 - val_loss: 406585.6562\n",
      "Epoch 42/50\n",
      "\u001b[1m2021/2021\u001b[0m \u001b[32m━━━━━━━━━━━━━━━━━━━━\u001b[0m\u001b[37m\u001b[0m \u001b[1m14s\u001b[0m 7ms/step - loss: 134500.0312 - val_loss: 406504.0000\n",
      "Epoch 43/50\n",
      "\u001b[1m2021/2021\u001b[0m \u001b[32m━━━━━━━━━━━━━━━━━━━━\u001b[0m\u001b[37m\u001b[0m \u001b[1m13s\u001b[0m 7ms/step - loss: 134527.6719 - val_loss: 406430.6875\n",
      "Epoch 44/50\n",
      "\u001b[1m2021/2021\u001b[0m \u001b[32m━━━━━━━━━━━━━━━━━━━━\u001b[0m\u001b[37m\u001b[0m \u001b[1m14s\u001b[0m 7ms/step - loss: 134913.2969 - val_loss: 406417.3125\n",
      "Epoch 45/50\n",
      "\u001b[1m2021/2021\u001b[0m \u001b[32m━━━━━━━━━━━━━━━━━━━━\u001b[0m\u001b[37m\u001b[0m \u001b[1m13s\u001b[0m 7ms/step - loss: 135343.6094 - val_loss: 406512.0625\n",
      "Epoch 46/50\n",
      "\u001b[1m2021/2021\u001b[0m \u001b[32m━━━━━━━━━━━━━━━━━━━━\u001b[0m\u001b[37m\u001b[0m \u001b[1m13s\u001b[0m 7ms/step - loss: 135385.7969 - val_loss: 406590.0938\n",
      "Epoch 47/50\n",
      "\u001b[1m2021/2021\u001b[0m \u001b[32m━━━━━━━━━━━━━━━━━━━━\u001b[0m\u001b[37m\u001b[0m \u001b[1m14s\u001b[0m 7ms/step - loss: 135592.3438 - val_loss: 406639.8125\n",
      "Epoch 48/50\n",
      "\u001b[1m2021/2021\u001b[0m \u001b[32m━━━━━━━━━━━━━━━━━━━━\u001b[0m\u001b[37m\u001b[0m \u001b[1m14s\u001b[0m 7ms/step - loss: 135397.8125 - val_loss: 406541.4375\n",
      "Epoch 49/50\n",
      "\u001b[1m2021/2021\u001b[0m \u001b[32m━━━━━━━━━━━━━━━━━━━━\u001b[0m\u001b[37m\u001b[0m \u001b[1m14s\u001b[0m 7ms/step - loss: 134561.2344 - val_loss: 406682.9375\n",
      "Epoch 50/50\n",
      "\u001b[1m2021/2021\u001b[0m \u001b[32m━━━━━━━━━━━━━━━━━━━━\u001b[0m\u001b[37m\u001b[0m \u001b[1m13s\u001b[0m 7ms/step - loss: 135218.9375 - val_loss: 406596.7500\n",
      "\u001b[1m562/562\u001b[0m \u001b[32m━━━━━━━━━━━━━━━━━━━━\u001b[0m\u001b[37m\u001b[0m \u001b[1m2s\u001b[0m 3ms/step - loss: 630162.0625\n",
      "Test Loss: 746954.0625\n"
     ]
    }
   ],
   "source": [
    "history = model.fit(X_train, y_train, epochs=50, batch_size=batch_size, validation_split=0.1)\n",
    "\n",
    "# 모델 평가\n",
    "loss = model.evaluate(X_test, y_test)\n",
    "print(f\"Test Loss: {loss}\")\n"
   ]
  },
  {
   "cell_type": "code",
   "execution_count": 12,
   "metadata": {},
   "outputs": [
    {
     "name": "stdout",
     "output_type": "stream",
     "text": [
      "\u001b[1m562/562\u001b[0m \u001b[32m━━━━━━━━━━━━━━━━━━━━\u001b[0m\u001b[37m\u001b[0m \u001b[1m2s\u001b[0m 3ms/step\n"
     ]
    },
    {
     "data": {
      "image/png": "[encoded data removed]",
      "text/plain": [
       "<Figure size 1200x600 with 1 Axes>"
      ]
     },
     "metadata": {},
     "output_type": "display_data"
    }
   ],
   "source": [
    "import matplotlib.pyplot as plt\n",
    "\n",
    "# 예측 수행\n",
    "predictions = model.predict(X_test)\n",
    "\n",
    "# 예측 결과와 실제 값을 비교하는 그래프 그리기\n",
    "plt.figure(figsize=(12, 6))\n",
    "plt.plot(y_test[:, -1], label='Actual')\n",
    "plt.plot(predictions[:, -1], label='Predicted')\n",
    "plt.legend()\n",
    "plt.show()\n"
   ]
  },
  {
   "cell_type": "markdown",
   "metadata": {},
   "source": [
    "### 예측이 일직선으로 나오기때문에 모델 구조를 변경"
   ]
  },
  {
   "cell_type": "code",
   "execution_count": 13,
   "metadata": {},
   "outputs": [],
   "source": [
    "embedding_size = 128\n",
    "num_nodes = 128  # 노드 수를 증가시켜 모델 복잡도 향상\n",
    "batch_size = 32\n",
    "num_unrollings = 10\n",
    "dropout_rate = 0.3  # 과적합 방지를 위해 dropout 비율을 조정"
   ]
  },
  {
   "cell_type": "markdown",
   "metadata": {},
   "source": [
    "### 모델 구조 재정의"
   ]
  },
  {
   "cell_type": "code",
   "execution_count": 17,
   "metadata": {},
   "outputs": [
    {
     "name": "stderr",
     "output_type": "stream",
     "text": [
      "c:\\Users\\82106\\AppData\\Local\\Programs\\Python\\Python310\\lib\\site-packages\\keras\\src\\layers\\layer.py:391: UserWarning: `build()` was called on layer 'renewable_energy_model_2', however the layer does not have a `build()` method implemented and it looks like it has unbuilt state. This will cause the layer to be marked as built, despite not being actually built, which may cause failures down the line. Make sure to implement a proper `build()` method.\n",
      "  warnings.warn(\n"
     ]
    }
   ],
   "source": [
    "from tensorflow.keras.layers import LSTM, Dense, Dropout, Input, BatchNormalization\n",
    "\n",
    "# 입력 특징 수 정의 (데이터셋에 맞춰야 함)\n",
    "num_features = len(features)  # feature의 수를 정확히 지정\n",
    "\n",
    "# 모델 정의\n",
    "class RenewableEnergyModel(tf.keras.Model):\n",
    "    def __init__(self, num_nodes, embedding_size, num_features, dropout_rate):\n",
    "        super(RenewableEnergyModel, self).__init__()\n",
    "        # 입력 임베딩 레이어\n",
    "        self.embedding = Dense(embedding_size, activation='relu')\n",
    "        # 첫 번째 LSTM 레이어\n",
    "        self.lstm1 = LSTM(num_nodes, return_sequences=True)\n",
    "        # 배치 정규화 레이어\n",
    "        self.batch_norm1 = BatchNormalization()\n",
    "        # 두 번째 LSTM 레이어\n",
    "        self.lstm2 = LSTM(num_nodes, return_sequences=True)\n",
    "        # 배치 정규화 레이어\n",
    "        self.batch_norm2 = BatchNormalization()\n",
    "        # 세 번째 LSTM 레이어\n",
    "        self.lstm3 = LSTM(num_nodes)\n",
    "        # Dropout 레이어\n",
    "        self.dropout = Dropout(dropout_rate)\n",
    "        # 출력 레이어\n",
    "        self.dense = Dense(num_features)\n",
    "    \n",
    "    def call(self, inputs, training=False):\n",
    "        # 입력 임베딩\n",
    "        x = self.embedding(inputs)\n",
    "        # 첫 번째 LSTM 처리 및 배치 정규화\n",
    "        x = self.lstm1(x)\n",
    "        x = self.batch_norm1(x)\n",
    "        # 두 번째 LSTM 처리 및 배치 정규화\n",
    "        x = self.lstm2(x)\n",
    "        x = self.batch_norm2(x)\n",
    "        # 세 번째 LSTM 처리\n",
    "        x = self.lstm3(x)\n",
    "        # Dropout 적용 (학습 중에만 활성화)\n",
    "        if training:\n",
    "            x = self.dropout(x, training=training)\n",
    "        # 최종 출력\n",
    "        return self.dense(x)\n",
    "\n",
    "# 모델 인스턴스 생성\n",
    "inputs = Input(shape=(num_unrollings, num_features))\n",
    "model = RenewableEnergyModel(num_nodes, embedding_size, num_features, dropout_rate)\n",
    "outputs = model(inputs)"
   ]
  },
  {
   "cell_type": "markdown",
   "metadata": {},
   "source": [
    "### 모델 컴파일\n",
    "- **손실 함수**:\n",
    "  - 예측값과 실제값 간 **오차를 측정**하여 학습 방향을 결정\n",
    "\n",
    "- **최적화 알고리즘**:\n",
    "  - 손실 함수 **최소화**를 위해 가중치를 업데이트하는 방법\n",
    "\n",
    "- **평가지표**:\n",
    "  - 모델 성능을 **평가**하기 위한 지표 설정\n"
   ]
  },
  {
   "cell_type": "code",
   "execution_count": 18,
   "metadata": {},
   "outputs": [],
   "source": [
    "# 모델 컴파일\n",
    "model = tf.keras.Model(inputs=inputs, outputs=outputs)\n",
    "model.compile(optimizer='adam', loss='mse')"
   ]
  },
  {
   "cell_type": "code",
   "execution_count": null,
   "metadata": {},
   "outputs": [
    {
     "data": {
      "text/html": [
       "<pre style=\"white-space:pre;overflow-x:auto;line-height:normal;font-family:Menlo,'DejaVu Sans Mono',consolas,'Courier New',monospace\"><span style=\"font-weight: bold\">Model: \"functional_1\"</span>\n",
       "</pre>\n"
      ],
      "text/plain": [
       "\u001b[1mModel: \"functional_1\"\u001b[0m\n"
      ]
     },
     "metadata": {},
     "output_type": "display_data"
    },
    {
     "data": {
      "text/html": [
       "<pre style=\"white-space:pre;overflow-x:auto;line-height:normal;font-family:Menlo,'DejaVu Sans Mono',consolas,'Courier New',monospace\">┏━━━━━━━━━━━━━━━━━━━━━━━━━━━━━━━━━┳━━━━━━━━━━━━━━━━━━━━━━━━┳━━━━━━━━━━━━━━━┓\n",
       "┃<span style=\"font-weight: bold\"> Layer (type)                    </span>┃<span style=\"font-weight: bold\"> Output Shape           </span>┃<span style=\"font-weight: bold\">       Param # </span>┃\n",
       "┡━━━━━━━━━━━━━━━━━━━━━━━━━━━━━━━━━╇━━━━━━━━━━━━━━━━━━━━━━━━╇━━━━━━━━━━━━━━━┩\n",
       "│ input_layer_4 (<span style=\"color: #0087ff; text-decoration-color: #0087ff\">InputLayer</span>)      │ (<span style=\"color: #00d7ff; text-decoration-color: #00d7ff\">None</span>, <span style=\"color: #00af00; text-decoration-color: #00af00\">10</span>, <span style=\"color: #00af00; text-decoration-color: #00af00\">11</span>)         │             <span style=\"color: #00af00; text-decoration-color: #00af00\">0</span> │\n",
       "├─────────────────────────────────┼────────────────────────┼───────────────┤\n",
       "│ renewable_energy_model_2        │ (<span style=\"color: #00d7ff; text-decoration-color: #00d7ff\">None</span>, <span style=\"color: #00af00; text-decoration-color: #00af00\">11</span>)             │       <span style=\"color: #00af00; text-decoration-color: #00af00\">398,731</span> │\n",
       "│ (<span style=\"color: #0087ff; text-decoration-color: #0087ff\">RenewableEnergyModel</span>)          │                        │               │\n",
       "└─────────────────────────────────┴────────────────────────┴───────────────┘\n",
       "</pre>\n"
      ],
      "text/plain": [
       "┏━━━━━━━━━━━━━━━━━━━━━━━━━━━━━━━━━┳━━━━━━━━━━━━━━━━━━━━━━━━┳━━━━━━━━━━━━━━━┓\n",
       "┃\u001b[1m \u001b[0m\u001b[1mLayer (type)                   \u001b[0m\u001b[1m \u001b[0m┃\u001b[1m \u001b[0m\u001b[1mOutput Shape          \u001b[0m\u001b[1m \u001b[0m┃\u001b[1m \u001b[0m\u001b[1m      Param #\u001b[0m\u001b[1m \u001b[0m┃\n",
       "┡━━━━━━━━━━━━━━━━━━━━━━━━━━━━━━━━━╇━━━━━━━━━━━━━━━━━━━━━━━━╇━━━━━━━━━━━━━━━┩\n",
       "│ input_layer_4 (\u001b[38;5;33mInputLayer\u001b[0m)      │ (\u001b[38;5;45mNone\u001b[0m, \u001b[38;5;34m10\u001b[0m, \u001b[38;5;34m11\u001b[0m)         │             \u001b[38;5;34m0\u001b[0m │\n",
       "├─────────────────────────────────┼────────────────────────┼───────────────┤\n",
       "│ renewable_energy_model_2        │ (\u001b[38;5;45mNone\u001b[0m, \u001b[38;5;34m11\u001b[0m)             │       \u001b[38;5;34m398,731\u001b[0m │\n",
       "│ (\u001b[38;5;33mRenewableEnergyModel\u001b[0m)          │                        │               │\n",
       "└─────────────────────────────────┴────────────────────────┴───────────────┘\n"
      ]
     },
     "metadata": {},
     "output_type": "display_data"
    },
    {
     "data": {
      "text/html": [
       "<pre style=\"white-space:pre;overflow-x:auto;line-height:normal;font-family:Menlo,'DejaVu Sans Mono',consolas,'Courier New',monospace\"><span style=\"font-weight: bold\"> Total params: </span><span style=\"color: #00af00; text-decoration-color: #00af00\">398,731</span> (1.52 MB)\n",
       "</pre>\n"
      ],
      "text/plain": [
       "\u001b[1m Total params: \u001b[0m\u001b[38;5;34m398,731\u001b[0m (1.52 MB)\n"
      ]
     },
     "metadata": {},
     "output_type": "display_data"
    },
    {
     "data": {
      "text/html": [
       "<pre style=\"white-space:pre;overflow-x:auto;line-height:normal;font-family:Menlo,'DejaVu Sans Mono',consolas,'Courier New',monospace\"><span style=\"font-weight: bold\"> Trainable params: </span><span style=\"color: #00af00; text-decoration-color: #00af00\">398,219</span> (1.52 MB)\n",
       "</pre>\n"
      ],
      "text/plain": [
       "\u001b[1m Trainable params: \u001b[0m\u001b[38;5;34m398,219\u001b[0m (1.52 MB)\n"
      ]
     },
     "metadata": {},
     "output_type": "display_data"
    },
    {
     "data": {
      "text/html": [
       "<pre style=\"white-space:pre;overflow-x:auto;line-height:normal;font-family:Menlo,'DejaVu Sans Mono',consolas,'Courier New',monospace\"><span style=\"font-weight: bold\"> Non-trainable params: </span><span style=\"color: #00af00; text-decoration-color: #00af00\">512</span> (2.00 KB)\n",
       "</pre>\n"
      ],
      "text/plain": [
       "\u001b[1m Non-trainable params: \u001b[0m\u001b[38;5;34m512\u001b[0m (2.00 KB)\n"
      ]
     },
     "metadata": {},
     "output_type": "display_data"
    }
   ],
   "source": [
    "# 모델 요약 출력\n",
    "model.summary()"
   ]
  },
  {
   "cell_type": "markdown",
   "metadata": {},
   "source": [
    "### 기존 모델과 비교 개선점\n",
    "\n",
    "- **파라미터 수 증가**:\n",
    "  - 새로운 모델은 기존 모델보다 약 **4.7배 많은 파라미터**를 가지며, 더 복잡한 패턴을 학습할 수 있는 **용량이 증가**\n",
    "\n",
    "- **레이어 구조의 복잡성 증가**:\n",
    "  - 기존 모델에 비해 **더 깊은 LSTM 레이어**, **배치 정규화**, **Dropout 레이어**가 추가되어 복잡한 시계열 패턴을 학습하고 **과적합을 방지**\n",
    "\n",
    "- **학습 및 일반화 성능 개선 가능성**:\n",
    "  - 더 깊은 구조로 인해 **복잡한 시계열 데이터를 잘 학습**할 수 있으며, **직선 예측 문제**를 해결할 가능성 높음\n",
    "\n",
    "- **연산 비용 증가**:\n",
    "  - **파라미터 수와 레이어가 늘어나면서 연산 비용이 증가**하여 학습 속도가 느려지고 메모리 소모가 커질 수 있음"
   ]
  },
  {
   "cell_type": "markdown",
   "metadata": {},
   "source": [
    "### 모델 학습"
   ]
  },
  {
   "cell_type": "code",
   "execution_count": 21,
   "metadata": {},
   "outputs": [
    {
     "name": "stdout",
     "output_type": "stream",
     "text": [
      "Epoch 1/50\n",
      "\u001b[1m1797/1797\u001b[0m \u001b[32m━━━━━━━━━━━━━━━━━━━━\u001b[0m\u001b[37m\u001b[0m \u001b[1m29s\u001b[0m 14ms/step - loss: 659003.8750 - val_loss: 1375435.2500\n",
      "Epoch 2/50\n",
      "\u001b[1m1797/1797\u001b[0m \u001b[32m━━━━━━━━━━━━━━━━━━━━\u001b[0m\u001b[37m\u001b[0m \u001b[1m24s\u001b[0m 13ms/step - loss: 498403.2812 - val_loss: 1199278.7500\n",
      "Epoch 3/50\n",
      "\u001b[1m1797/1797\u001b[0m \u001b[32m━━━━━━━━━━━━━━━━━━━━\u001b[0m\u001b[37m\u001b[0m \u001b[1m24s\u001b[0m 13ms/step - loss: 384105.5000 - val_loss: 1051462.5000\n",
      "Epoch 4/50\n",
      "\u001b[1m1797/1797\u001b[0m \u001b[32m━━━━━━━━━━━━━━━━━━━━\u001b[0m\u001b[37m\u001b[0m \u001b[1m26s\u001b[0m 14ms/step - loss: 293021.3438 - val_loss: 851766.5000\n",
      "Epoch 5/50\n",
      "\u001b[1m1797/1797\u001b[0m \u001b[32m━━━━━━━━━━━━━━━━━━━━\u001b[0m\u001b[37m\u001b[0m \u001b[1m26s\u001b[0m 15ms/step - loss: 226004.6562 - val_loss: 675977.2500\n",
      "Epoch 6/50\n",
      "\u001b[1m1797/1797\u001b[0m \u001b[32m━━━━━━━━━━━━━━━━━━━━\u001b[0m\u001b[37m\u001b[0m \u001b[1m25s\u001b[0m 14ms/step - loss: 178209.2969 - val_loss: 585285.8750\n",
      "Epoch 7/50\n",
      "\u001b[1m1797/1797\u001b[0m \u001b[32m━━━━━━━━━━━━━━━━━━━━\u001b[0m\u001b[37m\u001b[0m \u001b[1m25s\u001b[0m 14ms/step - loss: 146544.8125 - val_loss: 676807.8750\n",
      "Epoch 8/50\n",
      "\u001b[1m1797/1797\u001b[0m \u001b[32m━━━━━━━━━━━━━━━━━━━━\u001b[0m\u001b[37m\u001b[0m \u001b[1m26s\u001b[0m 14ms/step - loss: 127275.0859 - val_loss: 636957.3125\n",
      "Epoch 9/50\n",
      "\u001b[1m1797/1797\u001b[0m \u001b[32m━━━━━━━━━━━━━━━━━━━━\u001b[0m\u001b[37m\u001b[0m \u001b[1m26s\u001b[0m 14ms/step - loss: 113013.0156 - val_loss: 608678.6250\n",
      "Epoch 10/50\n",
      "\u001b[1m1797/1797\u001b[0m \u001b[32m━━━━━━━━━━━━━━━━━━━━\u001b[0m\u001b[37m\u001b[0m \u001b[1m26s\u001b[0m 15ms/step - loss: 106451.4609 - val_loss: 589974.0000\n",
      "Epoch 11/50\n",
      "\u001b[1m1797/1797\u001b[0m \u001b[32m━━━━━━━━━━━━━━━━━━━━\u001b[0m\u001b[37m\u001b[0m \u001b[1m26s\u001b[0m 15ms/step - loss: 104141.2500 - val_loss: 582177.5000\n",
      "Epoch 12/50\n",
      "\u001b[1m1797/1797\u001b[0m \u001b[32m━━━━━━━━━━━━━━━━━━━━\u001b[0m\u001b[37m\u001b[0m \u001b[1m27s\u001b[0m 15ms/step - loss: 103133.2500 - val_loss: 579137.2500\n",
      "Epoch 13/50\n",
      "\u001b[1m1797/1797\u001b[0m \u001b[32m━━━━━━━━━━━━━━━━━━━━\u001b[0m\u001b[37m\u001b[0m \u001b[1m26s\u001b[0m 15ms/step - loss: 103515.2578 - val_loss: 578555.0625\n",
      "Epoch 14/50\n",
      "\u001b[1m1797/1797\u001b[0m \u001b[32m━━━━━━━━━━━━━━━━━━━━\u001b[0m\u001b[37m\u001b[0m \u001b[1m26s\u001b[0m 15ms/step - loss: 103627.9609 - val_loss: 578256.2500\n",
      "Epoch 15/50\n",
      "\u001b[1m1797/1797\u001b[0m \u001b[32m━━━━━━━━━━━━━━━━━━━━\u001b[0m\u001b[37m\u001b[0m \u001b[1m26s\u001b[0m 14ms/step - loss: 103317.4844 - val_loss: 578143.2500\n",
      "Epoch 16/50\n",
      "\u001b[1m1797/1797\u001b[0m \u001b[32m━━━━━━━━━━━━━━━━━━━━\u001b[0m\u001b[37m\u001b[0m \u001b[1m26s\u001b[0m 14ms/step - loss: 103473.4609 - val_loss: 447258.0938\n",
      "Epoch 17/50\n",
      "\u001b[1m1797/1797\u001b[0m \u001b[32m━━━━━━━━━━━━━━━━━━━━\u001b[0m\u001b[37m\u001b[0m \u001b[1m26s\u001b[0m 15ms/step - loss: 103437.6562 - val_loss: 465851.2812\n",
      "Epoch 18/50\n",
      "\u001b[1m1797/1797\u001b[0m \u001b[32m━━━━━━━━━━━━━━━━━━━━\u001b[0m\u001b[37m\u001b[0m \u001b[1m25s\u001b[0m 14ms/step - loss: 103272.6641 - val_loss: 474028.4688\n",
      "Epoch 19/50\n",
      "\u001b[1m1797/1797\u001b[0m \u001b[32m━━━━━━━━━━━━━━━━━━━━\u001b[0m\u001b[37m\u001b[0m \u001b[1m26s\u001b[0m 15ms/step - loss: 103515.5312 - val_loss: 486637.0625\n",
      "Epoch 20/50\n",
      "\u001b[1m1797/1797\u001b[0m \u001b[32m━━━━━━━━━━━━━━━━━━━━\u001b[0m\u001b[37m\u001b[0m \u001b[1m27s\u001b[0m 15ms/step - loss: 103199.0469 - val_loss: 494227.8750\n",
      "Epoch 21/50\n",
      "\u001b[1m1797/1797\u001b[0m \u001b[32m━━━━━━━━━━━━━━━━━━━━\u001b[0m\u001b[37m\u001b[0m \u001b[1m25s\u001b[0m 14ms/step - loss: 103857.0547 - val_loss: 494845.9062\n",
      "Epoch 22/50\n",
      "\u001b[1m1797/1797\u001b[0m \u001b[32m━━━━━━━━━━━━━━━━━━━━\u001b[0m\u001b[37m\u001b[0m \u001b[1m26s\u001b[0m 14ms/step - loss: 103447.7656 - val_loss: 494874.3750\n",
      "Epoch 23/50\n",
      "\u001b[1m1797/1797\u001b[0m \u001b[32m━━━━━━━━━━━━━━━━━━━━\u001b[0m\u001b[37m\u001b[0m \u001b[1m25s\u001b[0m 14ms/step - loss: 103384.8047 - val_loss: 494046.7188\n",
      "Epoch 24/50\n",
      "\u001b[1m1797/1797\u001b[0m \u001b[32m━━━━━━━━━━━━━━━━━━━━\u001b[0m\u001b[37m\u001b[0m \u001b[1m26s\u001b[0m 14ms/step - loss: 104024.4141 - val_loss: 495071.6250\n",
      "Epoch 25/50\n",
      "\u001b[1m1797/1797\u001b[0m \u001b[32m━━━━━━━━━━━━━━━━━━━━\u001b[0m\u001b[37m\u001b[0m \u001b[1m26s\u001b[0m 14ms/step - loss: 103639.8203 - val_loss: 495335.7500\n",
      "Epoch 26/50\n",
      "\u001b[1m1797/1797\u001b[0m \u001b[32m━━━━━━━━━━━━━━━━━━━━\u001b[0m\u001b[37m\u001b[0m \u001b[1m26s\u001b[0m 15ms/step - loss: 103750.6406 - val_loss: 494857.7188\n",
      "Epoch 27/50\n",
      "\u001b[1m1797/1797\u001b[0m \u001b[32m━━━━━━━━━━━━━━━━━━━━\u001b[0m\u001b[37m\u001b[0m \u001b[1m26s\u001b[0m 14ms/step - loss: 104224.4922 - val_loss: 495138.7812\n",
      "Epoch 28/50\n",
      "\u001b[1m1797/1797\u001b[0m \u001b[32m━━━━━━━━━━━━━━━━━━━━\u001b[0m\u001b[37m\u001b[0m \u001b[1m26s\u001b[0m 14ms/step - loss: 102740.6562 - val_loss: 494545.9688\n",
      "Epoch 29/50\n",
      "\u001b[1m1797/1797\u001b[0m \u001b[32m━━━━━━━━━━━━━━━━━━━━\u001b[0m\u001b[37m\u001b[0m \u001b[1m25s\u001b[0m 14ms/step - loss: 103680.6875 - val_loss: 495083.3125\n",
      "Epoch 30/50\n",
      "\u001b[1m1797/1797\u001b[0m \u001b[32m━━━━━━━━━━━━━━━━━━━━\u001b[0m\u001b[37m\u001b[0m \u001b[1m27s\u001b[0m 15ms/step - loss: 103585.8984 - val_loss: 494123.6875\n",
      "Epoch 31/50\n",
      "\u001b[1m1797/1797\u001b[0m \u001b[32m━━━━━━━━━━━━━━━━━━━━\u001b[0m\u001b[37m\u001b[0m \u001b[1m26s\u001b[0m 14ms/step - loss: 103846.0156 - val_loss: 494564.6250\n",
      "Epoch 32/50\n",
      "\u001b[1m1797/1797\u001b[0m \u001b[32m━━━━━━━━━━━━━━━━━━━━\u001b[0m\u001b[37m\u001b[0m \u001b[1m27s\u001b[0m 15ms/step - loss: 102826.9297 - val_loss: 494175.1562\n",
      "Epoch 33/50\n",
      "\u001b[1m1797/1797\u001b[0m \u001b[32m━━━━━━━━━━━━━━━━━━━━\u001b[0m\u001b[37m\u001b[0m \u001b[1m26s\u001b[0m 14ms/step - loss: 103867.7109 - val_loss: 493875.9688\n",
      "Epoch 34/50\n",
      "\u001b[1m1797/1797\u001b[0m \u001b[32m━━━━━━━━━━━━━━━━━━━━\u001b[0m\u001b[37m\u001b[0m \u001b[1m26s\u001b[0m 14ms/step - loss: 103556.9219 - val_loss: 494428.4688\n",
      "Epoch 35/50\n",
      "\u001b[1m1797/1797\u001b[0m \u001b[32m━━━━━━━━━━━━━━━━━━━━\u001b[0m\u001b[37m\u001b[0m \u001b[1m26s\u001b[0m 14ms/step - loss: 103536.3984 - val_loss: 495049.0625\n",
      "Epoch 36/50\n",
      "\u001b[1m1797/1797\u001b[0m \u001b[32m━━━━━━━━━━━━━━━━━━━━\u001b[0m\u001b[37m\u001b[0m \u001b[1m26s\u001b[0m 15ms/step - loss: 102780.4453 - val_loss: 494964.5312\n",
      "Epoch 37/50\n",
      "\u001b[1m1797/1797\u001b[0m \u001b[32m━━━━━━━━━━━━━━━━━━━━\u001b[0m\u001b[37m\u001b[0m \u001b[1m26s\u001b[0m 14ms/step - loss: 103003.1875 - val_loss: 494343.0312\n",
      "Epoch 38/50\n",
      "\u001b[1m1797/1797\u001b[0m \u001b[32m━━━━━━━━━━━━━━━━━━━━\u001b[0m\u001b[37m\u001b[0m \u001b[1m26s\u001b[0m 15ms/step - loss: 104497.7812 - val_loss: 494517.0625\n",
      "Epoch 39/50\n",
      "\u001b[1m1797/1797\u001b[0m \u001b[32m━━━━━━━━━━━━━━━━━━━━\u001b[0m\u001b[37m\u001b[0m \u001b[1m26s\u001b[0m 15ms/step - loss: 103303.3516 - val_loss: 494131.3438\n",
      "Epoch 40/50\n",
      "\u001b[1m1797/1797\u001b[0m \u001b[32m━━━━━━━━━━━━━━━━━━━━\u001b[0m\u001b[37m\u001b[0m \u001b[1m27s\u001b[0m 15ms/step - loss: 104053.2266 - val_loss: 494085.8125\n",
      "Epoch 41/50\n",
      "\u001b[1m1797/1797\u001b[0m \u001b[32m━━━━━━━━━━━━━━━━━━━━\u001b[0m\u001b[37m\u001b[0m \u001b[1m25s\u001b[0m 14ms/step - loss: 103069.2891 - val_loss: 494053.4375\n",
      "Epoch 42/50\n",
      "\u001b[1m1797/1797\u001b[0m \u001b[32m━━━━━━━━━━━━━━━━━━━━\u001b[0m\u001b[37m\u001b[0m \u001b[1m26s\u001b[0m 15ms/step - loss: 102648.1875 - val_loss: 493658.3125\n",
      "Epoch 43/50\n",
      "\u001b[1m1797/1797\u001b[0m \u001b[32m━━━━━━━━━━━━━━━━━━━━\u001b[0m\u001b[37m\u001b[0m \u001b[1m27s\u001b[0m 15ms/step - loss: 103079.2891 - val_loss: 494007.0625\n",
      "Epoch 44/50\n",
      "\u001b[1m1797/1797\u001b[0m \u001b[32m━━━━━━━━━━━━━━━━━━━━\u001b[0m\u001b[37m\u001b[0m \u001b[1m26s\u001b[0m 14ms/step - loss: 103428.2891 - val_loss: 494043.6250\n",
      "Epoch 45/50\n",
      "\u001b[1m1797/1797\u001b[0m \u001b[32m━━━━━━━━━━━━━━━━━━━━\u001b[0m\u001b[37m\u001b[0m \u001b[1m27s\u001b[0m 15ms/step - loss: 104064.3281 - val_loss: 493123.9375\n",
      "Epoch 46/50\n",
      "\u001b[1m1797/1797\u001b[0m \u001b[32m━━━━━━━━━━━━━━━━━━━━\u001b[0m\u001b[37m\u001b[0m \u001b[1m26s\u001b[0m 14ms/step - loss: 102462.6016 - val_loss: 494575.7812\n",
      "Epoch 47/50\n",
      "\u001b[1m1797/1797\u001b[0m \u001b[32m━━━━━━━━━━━━━━━━━━━━\u001b[0m\u001b[37m\u001b[0m \u001b[1m26s\u001b[0m 14ms/step - loss: 103661.6719 - val_loss: 493997.7500\n",
      "Epoch 48/50\n",
      "\u001b[1m1797/1797\u001b[0m \u001b[32m━━━━━━━━━━━━━━━━━━━━\u001b[0m\u001b[37m\u001b[0m \u001b[1m26s\u001b[0m 14ms/step - loss: 103506.0078 - val_loss: 493367.3438\n",
      "Epoch 49/50\n",
      "\u001b[1m1797/1797\u001b[0m \u001b[32m━━━━━━━━━━━━━━━━━━━━\u001b[0m\u001b[37m\u001b[0m \u001b[1m26s\u001b[0m 14ms/step - loss: 103956.2578 - val_loss: 492886.9688\n",
      "Epoch 50/50\n",
      "\u001b[1m1797/1797\u001b[0m \u001b[32m━━━━━━━━━━━━━━━━━━━━\u001b[0m\u001b[37m\u001b[0m \u001b[1m27s\u001b[0m 15ms/step - loss: 103731.0547 - val_loss: 493955.5938\n"
     ]
    }
   ],
   "source": [
    "# 모델 학습\n",
    "history = model.fit(\n",
    "    X_train, y_train,\n",
    "    epochs=50,\n",
    "    batch_size=batch_size,\n",
    "    validation_split=0.2,\n",
    ")"
   ]
  },
  {
   "cell_type": "code",
   "execution_count": 24,
   "metadata": {},
   "outputs": [
    {
     "name": "stdout",
     "output_type": "stream",
     "text": [
      "\u001b[1m562/562\u001b[0m \u001b[32m━━━━━━━━━━━━━━━━━━━━\u001b[0m\u001b[37m\u001b[0m \u001b[1m4s\u001b[0m 6ms/step\n"
     ]
    }
   ],
   "source": [
    "# 예측 수행\n",
    "predictions = model.predict(X_test)"
   ]
  },
  {
   "cell_type": "code",
   "execution_count": 25,
   "metadata": {},
   "outputs": [
    {
     "data": {
      "image/png": "[encoded data removed]",
      "text/plain": [
       "<Figure size 1200x600 with 1 Axes>"
      ]
     },
     "metadata": {},
     "output_type": "display_data"
    }
   ],
   "source": [
    "# 예측 결과와 실제 값을 비교하는 그래프 그리기\n",
    "plt.figure(figsize=(12, 6))\n",
    "plt.plot(y_test[:, -1], label='Actual')\n",
    "plt.plot(predictions[:, -1], label='Predicted')\n",
    "plt.legend()\n",
    "plt.show()"
   ]
  },
  {
   "cell_type": "markdown",
   "metadata": {},
   "source": [
    "예측 결과가 좋지않으므로 다른 모델을 사용"
   ]
  },
  {
   "cell_type": "code",
   "execution_count": null,
   "metadata": {},
   "outputs": [],
   "source": []
  }
 ],
 "metadata": {
  "kernelspec": {
   "display_name": "Python 3",
   "language": "python",
   "name": "python3"
  },
  "language_info": {
   "codemirror_mode": {
    "name": "ipython",
    "version": 3
   },
   "file_extension": ".py",
   "mimetype": "text/x-python",
   "name": "python",
   "nbconvert_exporter": "python",
   "pygments_lexer": "ipython3",
   "version": "3.10.2"
  }
 },
 "nbformat": 4,
 "nbformat_minor": 2
}
