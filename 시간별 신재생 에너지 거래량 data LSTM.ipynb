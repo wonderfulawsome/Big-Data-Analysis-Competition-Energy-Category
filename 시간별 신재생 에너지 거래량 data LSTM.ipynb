{
 "cells": [
  {
   "cell_type": "code",
   "execution_count": 1,
   "metadata": {},
   "outputs": [],
   "source": [
    "import pandas as pd\n",
    "import numpy as np\n",
    "import tensorflow as tf\n",
    "\n",
    "# 데이터 불러오기\n",
    "data = pd.read_csv('C:/Users/82106/Desktop/데이터 분석 프로젝트 2/데이콘 빅데이터 분석/data/한국전력거래소_시간별 신재생에너지 거래량_20220331.csv',encoding='cp949')"
   ]
  },
  {
   "cell_type": "code",
   "execution_count": 2,
   "metadata": {},
   "outputs": [],
   "source": [
    "# '거래일' 열을 datetime 형식으로 변환\n",
    "data['거래일'] = pd.to_datetime(data['거래일'])\n",
    "\n",
    "# '거래일' 열을 float 형식으로 변환 (시간 차이를 일 단위로 변환)\n",
    "reference_date = data['거래일'].min()\n",
    "data['거래일'] = (data['거래일'] - reference_date).dt.total_seconds() / (24 * 3600)"
   ]
  },
  {
   "cell_type": "code",
   "execution_count": 3,
   "metadata": {},
   "outputs": [],
   "source": [
    "# 필요한 상수 및 하이퍼파라미터 정의\n",
    "embedding_size = 128  # 임베딩 크기\n",
    "num_nodes = 64  # LSTM 노드 수\n",
    "batch_size = 32  # 배치 크기\n",
    "num_unrollings = 10  # unrolling 수\n",
    "\n",
    "# 데이터셋 분할 (학습 데이터와 테스트 데이터)\n",
    "train_size = int(len(data) * 0.8)\n",
    "train_data = data[:train_size]\n",
    "test_data = data[train_size:]\n"
   ]
  },
  {
   "cell_type": "code",
   "execution_count": 4,
   "metadata": {},
   "outputs": [],
   "source": [
    "# 시계열 데이터 생성 함수\n",
    "def create_sequences(data, seq_length):\n",
    "    xs = []\n",
    "    ys = []\n",
    "    for i in range(len(data) - seq_length):\n",
    "        x = data.iloc[i:i+seq_length].values\n",
    "        y = data.iloc[i+seq_length].values\n",
    "        xs.append(x)\n",
    "        ys.append(y)\n",
    "    return np.array(xs), np.array(ys)\n",
    "\n",
    "seq_length = num_unrollings\n",
    "X_train, y_train = create_sequences(train_data, seq_length)\n",
    "X_test, y_test = create_sequences(test_data, seq_length)"
   ]
  },
  {
   "cell_type": "code",
   "execution_count": 5,
   "metadata": {},
   "outputs": [
    {
     "name": "stdout",
     "output_type": "stream",
     "text": [
      "(71855, 10, 11) (71855, 11)\n",
      "(17957, 10, 11) (17957, 11)\n"
     ]
    }
   ],
   "source": [
    "print(X_train.shape, y_train.shape)\n",
    "print(X_test.shape, y_test.shape)"
   ]
  },
  {
   "cell_type": "code",
   "execution_count": 6,
   "metadata": {},
   "outputs": [
    {
     "name": "stdout",
     "output_type": "stream",
     "text": [
      "Batch 0 shape: (32, 10, 11)\n",
      "Batch 1 shape: (32, 10, 11)\n",
      "Batch 2 shape: (32, 10, 11)\n",
      "Batch 3 shape: (32, 10, 11)\n",
      "Batch 4 shape: (32, 10, 11)\n",
      "Batch 5 shape: (32, 10, 11)\n",
      "Batch 6 shape: (32, 10, 11)\n",
      "Batch 7 shape: (32, 10, 11)\n",
      "Batch 8 shape: (32, 10, 11)\n",
      "Batch 9 shape: (32, 10, 11)\n",
      "Batch 10 shape: (32, 10, 11)\n"
     ]
    }
   ],
   "source": [
    "class BatchGenerator(object):\n",
    "    def __init__(self, data, batch_size, num_unrollings):\n",
    "        self.data = data\n",
    "        self.batch_size = batch_size\n",
    "        self.num_unrollings = num_unrollings\n",
    "        self.data_len = len(data)\n",
    "        segment = self.data_len // batch_size\n",
    "        self.cursor = [offset * segment for offset in range(batch_size)]\n",
    "        self.last_batch = self._next_batch()\n",
    "\n",
    "    def _next_batch(self):\n",
    "        batch = np.zeros((self.batch_size, self.num_unrollings, self.data.shape[1]))\n",
    "        for b in range(self.batch_size):\n",
    "            for u in range(self.num_unrollings):\n",
    "                batch[b, u] = self.data.iloc[self.cursor[b]]\n",
    "                self.cursor[b] = (self.cursor[b] + 1) % self.data_len\n",
    "        return batch\n",
    "    \n",
    "    def next(self):\n",
    "        batches = [self.last_batch]\n",
    "        for step in range(self.num_unrollings):\n",
    "            batches.append(self._next_batch())\n",
    "        self.last_batch = batches[-1]\n",
    "        return batches\n",
    "\n",
    "# BatchGenerator 사용 예제\n",
    "batch_size = 32\n",
    "num_unrollings = 10\n",
    "\n",
    "# BatchGenerator 인스턴스 생성\n",
    "train_generator = BatchGenerator(train_data, batch_size, num_unrollings)\n",
    "\n",
    "# 배치 생성 예제\n",
    "example_batches = train_generator.next()\n",
    "for i, batch in enumerate(example_batches):\n",
    "    print(f\"Batch {i} shape: {batch.shape}\")"
   ]
  },
  {
   "cell_type": "code",
   "execution_count": 11,
   "metadata": {},
   "outputs": [],
   "source": [
    "# 필요하지 않은 열 제거 (예: '거래일', '거래시간' 제외)\n",
    "features = ['거래일', '거래시간', '연료전지', '석탄가스화복합화력(IGCC)', '태양광', '풍력', '수력', '해양에너지', '바이오에너지', '폐기물에너지', '신재생 합계']\n",
    "data = data[features]"
   ]
  },
  {
   "cell_type": "code",
   "execution_count": 7,
   "metadata": {},
   "outputs": [
    {
     "name": "stdout",
     "output_type": "stream",
     "text": [
      "TensorFlow Version: 2.16.1\n"
     ]
    }
   ],
   "source": [
    "# 임베딩 크기(Embedding Size) 정의\n",
    "embedding_size = 128  # 각 특징을 고차원 공간에 매핑할 때 사용하는 벡터의 크기\n",
    "\n",
    "# LSTM 노드 수 정의\n",
    "num_nodes = 64  # 각 LSTM 레이어에서 사용할 노드(유닛)의 수\n",
    "\n",
    "# Dropout 확률 정의\n",
    "keep_prob_train = 0.5  # 학습 시 50%의 노드를 비활성화하여 과적합 방지\n",
    "keep_prob_sample = 1.0  # 검증 시 dropout을 사용하지 않음\n",
    "\n",
    "# 기타 하이퍼파라미터\n",
    "batch_size = 32  # 한 번에 모델에 입력으로 들어가는 데이터의 샘플 수\n",
    "num_unrollings = 10  # LSTM이 한 번에 처리할 시퀀스의 길이\n",
    "\n",
    "# TensorFlow 버전 확인 (선택 사항)\n",
    "import tensorflow as tf\n",
    "print(f\"TensorFlow Version: {tf.__version__}\")\n"
   ]
  },
  {
   "cell_type": "code",
   "execution_count": 15,
   "metadata": {},
   "outputs": [
    {
     "name": "stdout",
     "output_type": "stream",
     "text": [
      "WARNING:tensorflow:From c:\\Users\\82106\\AppData\\Local\\Programs\\Python\\Python310\\lib\\site-packages\\keras\\src\\backend\\tensorflow\\core.py:188: The name tf.placeholder is deprecated. Please use tf.compat.v1.placeholder instead.\n",
      "\n"
     ]
    },
    {
     "data": {
      "text/html": [
       "<pre style=\"white-space:pre;overflow-x:auto;line-height:normal;font-family:Menlo,'DejaVu Sans Mono',consolas,'Courier New',monospace\"><span style=\"font-weight: bold\">Model: \"functional_1\"</span>\n",
       "</pre>\n"
      ],
      "text/plain": [
       "\u001b[1mModel: \"functional_1\"\u001b[0m\n"
      ]
     },
     "metadata": {},
     "output_type": "display_data"
    },
    {
     "data": {
      "text/html": [
       "<pre style=\"white-space:pre;overflow-x:auto;line-height:normal;font-family:Menlo,'DejaVu Sans Mono',consolas,'Courier New',monospace\">┏━━━━━━━━━━━━━━━━━━━━━━━━━━━━━━━━━┳━━━━━━━━━━━━━━━━━━━━━━━━┳━━━━━━━━━━━━━━━┓\n",
       "┃<span style=\"font-weight: bold\"> Layer (type)                    </span>┃<span style=\"font-weight: bold\"> Output Shape           </span>┃<span style=\"font-weight: bold\">       Param # </span>┃\n",
       "┡━━━━━━━━━━━━━━━━━━━━━━━━━━━━━━━━━╇━━━━━━━━━━━━━━━━━━━━━━━━╇━━━━━━━━━━━━━━━┩\n",
       "│ input_layer (<span style=\"color: #0087ff; text-decoration-color: #0087ff\">InputLayer</span>)        │ (<span style=\"color: #00d7ff; text-decoration-color: #00d7ff\">None</span>, <span style=\"color: #00af00; text-decoration-color: #00af00\">10</span>, <span style=\"color: #00af00; text-decoration-color: #00af00\">11</span>)         │             <span style=\"color: #00af00; text-decoration-color: #00af00\">0</span> │\n",
       "├─────────────────────────────────┼────────────────────────┼───────────────┤\n",
       "│ renewable_energy_model_3        │ (<span style=\"color: #00d7ff; text-decoration-color: #00d7ff\">None</span>, <span style=\"color: #00af00; text-decoration-color: #00af00\">11</span>)             │        <span style=\"color: #00af00; text-decoration-color: #00af00\">84,683</span> │\n",
       "│ (<span style=\"color: #0087ff; text-decoration-color: #0087ff\">RenewableEnergyModel</span>)          │                        │               │\n",
       "└─────────────────────────────────┴────────────────────────┴───────────────┘\n",
       "</pre>\n"
      ],
      "text/plain": [
       "┏━━━━━━━━━━━━━━━━━━━━━━━━━━━━━━━━━┳━━━━━━━━━━━━━━━━━━━━━━━━┳━━━━━━━━━━━━━━━┓\n",
       "┃\u001b[1m \u001b[0m\u001b[1mLayer (type)                   \u001b[0m\u001b[1m \u001b[0m┃\u001b[1m \u001b[0m\u001b[1mOutput Shape          \u001b[0m\u001b[1m \u001b[0m┃\u001b[1m \u001b[0m\u001b[1m      Param #\u001b[0m\u001b[1m \u001b[0m┃\n",
       "┡━━━━━━━━━━━━━━━━━━━━━━━━━━━━━━━━━╇━━━━━━━━━━━━━━━━━━━━━━━━╇━━━━━━━━━━━━━━━┩\n",
       "│ input_layer (\u001b[38;5;33mInputLayer\u001b[0m)        │ (\u001b[38;5;45mNone\u001b[0m, \u001b[38;5;34m10\u001b[0m, \u001b[38;5;34m11\u001b[0m)         │             \u001b[38;5;34m0\u001b[0m │\n",
       "├─────────────────────────────────┼────────────────────────┼───────────────┤\n",
       "│ renewable_energy_model_3        │ (\u001b[38;5;45mNone\u001b[0m, \u001b[38;5;34m11\u001b[0m)             │        \u001b[38;5;34m84,683\u001b[0m │\n",
       "│ (\u001b[38;5;33mRenewableEnergyModel\u001b[0m)          │                        │               │\n",
       "└─────────────────────────────────┴────────────────────────┴───────────────┘\n"
      ]
     },
     "metadata": {},
     "output_type": "display_data"
    },
    {
     "data": {
      "text/html": [
       "<pre style=\"white-space:pre;overflow-x:auto;line-height:normal;font-family:Menlo,'DejaVu Sans Mono',consolas,'Courier New',monospace\"><span style=\"font-weight: bold\"> Total params: </span><span style=\"color: #00af00; text-decoration-color: #00af00\">84,683</span> (330.79 KB)\n",
       "</pre>\n"
      ],
      "text/plain": [
       "\u001b[1m Total params: \u001b[0m\u001b[38;5;34m84,683\u001b[0m (330.79 KB)\n"
      ]
     },
     "metadata": {},
     "output_type": "display_data"
    },
    {
     "data": {
      "text/html": [
       "<pre style=\"white-space:pre;overflow-x:auto;line-height:normal;font-family:Menlo,'DejaVu Sans Mono',consolas,'Courier New',monospace\"><span style=\"font-weight: bold\"> Trainable params: </span><span style=\"color: #00af00; text-decoration-color: #00af00\">84,683</span> (330.79 KB)\n",
       "</pre>\n"
      ],
      "text/plain": [
       "\u001b[1m Trainable params: \u001b[0m\u001b[38;5;34m84,683\u001b[0m (330.79 KB)\n"
      ]
     },
     "metadata": {},
     "output_type": "display_data"
    },
    {
     "data": {
      "text/html": [
       "<pre style=\"white-space:pre;overflow-x:auto;line-height:normal;font-family:Menlo,'DejaVu Sans Mono',consolas,'Courier New',monospace\"><span style=\"font-weight: bold\"> Non-trainable params: </span><span style=\"color: #00af00; text-decoration-color: #00af00\">0</span> (0.00 B)\n",
       "</pre>\n"
      ],
      "text/plain": [
       "\u001b[1m Non-trainable params: \u001b[0m\u001b[38;5;34m0\u001b[0m (0.00 B)\n"
      ]
     },
     "metadata": {},
     "output_type": "display_data"
    }
   ],
   "source": [
    "import tensorflow as tf\n",
    "from tensorflow.keras.layers import LSTM, Dense, Dropout, Input\n",
    "\n",
    "# 하이퍼파라미터 정의\n",
    "embedding_size = 128\n",
    "num_nodes = 64\n",
    "keep_prob_train = 0.5\n",
    "keep_prob_sample = 1.0\n",
    "batch_size = 32\n",
    "num_unrollings = 10\n",
    "num_features = len(features)\n",
    "\n",
    "# TensorFlow 모델 정의\n",
    "class RenewableEnergyModel(tf.keras.Model):\n",
    "    def __init__(self, num_nodes, embedding_size, num_features, dropout_rate):\n",
    "        super(RenewableEnergyModel, self).__init__()\n",
    "        self.embedding = Dense(embedding_size, activation='relu')\n",
    "        self.lstm1 = LSTM(num_nodes, return_sequences=True)\n",
    "        self.lstm2 = LSTM(num_nodes)\n",
    "        self.dropout = Dropout(dropout_rate)\n",
    "        self.dense = Dense(num_features)\n",
    "    \n",
    "    def call(self, inputs, training=False):\n",
    "        x = self.embedding(inputs)\n",
    "        x = self.lstm1(x)\n",
    "        x = self.lstm2(x)\n",
    "        if training:\n",
    "            x = self.dropout(x, training=training)\n",
    "        return self.dense(x)\n",
    "\n",
    "# 입력 형태 정의\n",
    "inputs = Input(shape=(num_unrollings, num_features))\n",
    "model = RenewableEnergyModel(num_nodes, embedding_size, num_features, keep_prob_train)\n",
    "outputs = model(inputs)\n",
    "\n",
    "# 모델 컴파일\n",
    "model = tf.keras.Model(inputs=inputs, outputs=outputs)\n",
    "model.compile(optimizer='adam', loss='mse')\n",
    "\n",
    "# 모델 요약 출력\n",
    "model.summary()\n"
   ]
  },
  {
   "cell_type": "code",
   "execution_count": 17,
   "metadata": {},
   "outputs": [
    {
     "data": {
      "text/html": [
       "<pre style=\"white-space:pre;overflow-x:auto;line-height:normal;font-family:Menlo,'DejaVu Sans Mono',consolas,'Courier New',monospace\"><span style=\"font-weight: bold\">Model: \"functional_3\"</span>\n",
       "</pre>\n"
      ],
      "text/plain": [
       "\u001b[1mModel: \"functional_3\"\u001b[0m\n"
      ]
     },
     "metadata": {},
     "output_type": "display_data"
    },
    {
     "data": {
      "text/html": [
       "<pre style=\"white-space:pre;overflow-x:auto;line-height:normal;font-family:Menlo,'DejaVu Sans Mono',consolas,'Courier New',monospace\">┏━━━━━━━━━━━━━━━━━━━━━━━━━━━━━━━━━┳━━━━━━━━━━━━━━━━━━━━━━━━┳━━━━━━━━━━━━━━━┓\n",
       "┃<span style=\"font-weight: bold\"> Layer (type)                    </span>┃<span style=\"font-weight: bold\"> Output Shape           </span>┃<span style=\"font-weight: bold\">       Param # </span>┃\n",
       "┡━━━━━━━━━━━━━━━━━━━━━━━━━━━━━━━━━╇━━━━━━━━━━━━━━━━━━━━━━━━╇━━━━━━━━━━━━━━━┩\n",
       "│ input_layer_1 (<span style=\"color: #0087ff; text-decoration-color: #0087ff\">InputLayer</span>)      │ (<span style=\"color: #00d7ff; text-decoration-color: #00d7ff\">None</span>, <span style=\"color: #00af00; text-decoration-color: #00af00\">10</span>, <span style=\"color: #00af00; text-decoration-color: #00af00\">11</span>)         │             <span style=\"color: #00af00; text-decoration-color: #00af00\">0</span> │\n",
       "├─────────────────────────────────┼────────────────────────┼───────────────┤\n",
       "│ renewable_energy_model_4        │ (<span style=\"color: #00d7ff; text-decoration-color: #00d7ff\">None</span>, <span style=\"color: #00af00; text-decoration-color: #00af00\">11</span>)             │        <span style=\"color: #00af00; text-decoration-color: #00af00\">84,683</span> │\n",
       "│ (<span style=\"color: #0087ff; text-decoration-color: #0087ff\">RenewableEnergyModel</span>)          │                        │               │\n",
       "└─────────────────────────────────┴────────────────────────┴───────────────┘\n",
       "</pre>\n"
      ],
      "text/plain": [
       "┏━━━━━━━━━━━━━━━━━━━━━━━━━━━━━━━━━┳━━━━━━━━━━━━━━━━━━━━━━━━┳━━━━━━━━━━━━━━━┓\n",
       "┃\u001b[1m \u001b[0m\u001b[1mLayer (type)                   \u001b[0m\u001b[1m \u001b[0m┃\u001b[1m \u001b[0m\u001b[1mOutput Shape          \u001b[0m\u001b[1m \u001b[0m┃\u001b[1m \u001b[0m\u001b[1m      Param #\u001b[0m\u001b[1m \u001b[0m┃\n",
       "┡━━━━━━━━━━━━━━━━━━━━━━━━━━━━━━━━━╇━━━━━━━━━━━━━━━━━━━━━━━━╇━━━━━━━━━━━━━━━┩\n",
       "│ input_layer_1 (\u001b[38;5;33mInputLayer\u001b[0m)      │ (\u001b[38;5;45mNone\u001b[0m, \u001b[38;5;34m10\u001b[0m, \u001b[38;5;34m11\u001b[0m)         │             \u001b[38;5;34m0\u001b[0m │\n",
       "├─────────────────────────────────┼────────────────────────┼───────────────┤\n",
       "│ renewable_energy_model_4        │ (\u001b[38;5;45mNone\u001b[0m, \u001b[38;5;34m11\u001b[0m)             │        \u001b[38;5;34m84,683\u001b[0m │\n",
       "│ (\u001b[38;5;33mRenewableEnergyModel\u001b[0m)          │                        │               │\n",
       "└─────────────────────────────────┴────────────────────────┴───────────────┘\n"
      ]
     },
     "metadata": {},
     "output_type": "display_data"
    },
    {
     "data": {
      "text/html": [
       "<pre style=\"white-space:pre;overflow-x:auto;line-height:normal;font-family:Menlo,'DejaVu Sans Mono',consolas,'Courier New',monospace\"><span style=\"font-weight: bold\"> Total params: </span><span style=\"color: #00af00; text-decoration-color: #00af00\">84,683</span> (330.79 KB)\n",
       "</pre>\n"
      ],
      "text/plain": [
       "\u001b[1m Total params: \u001b[0m\u001b[38;5;34m84,683\u001b[0m (330.79 KB)\n"
      ]
     },
     "metadata": {},
     "output_type": "display_data"
    },
    {
     "data": {
      "text/html": [
       "<pre style=\"white-space:pre;overflow-x:auto;line-height:normal;font-family:Menlo,'DejaVu Sans Mono',consolas,'Courier New',monospace\"><span style=\"font-weight: bold\"> Trainable params: </span><span style=\"color: #00af00; text-decoration-color: #00af00\">84,683</span> (330.79 KB)\n",
       "</pre>\n"
      ],
      "text/plain": [
       "\u001b[1m Trainable params: \u001b[0m\u001b[38;5;34m84,683\u001b[0m (330.79 KB)\n"
      ]
     },
     "metadata": {},
     "output_type": "display_data"
    },
    {
     "data": {
      "text/html": [
       "<pre style=\"white-space:pre;overflow-x:auto;line-height:normal;font-family:Menlo,'DejaVu Sans Mono',consolas,'Courier New',monospace\"><span style=\"font-weight: bold\"> Non-trainable params: </span><span style=\"color: #00af00; text-decoration-color: #00af00\">0</span> (0.00 B)\n",
       "</pre>\n"
      ],
      "text/plain": [
       "\u001b[1m Non-trainable params: \u001b[0m\u001b[38;5;34m0\u001b[0m (0.00 B)\n"
      ]
     },
     "metadata": {},
     "output_type": "display_data"
    }
   ],
   "source": [
    "import tensorflow as tf\n",
    "\n",
    "class CustomLSTMCell(tf.keras.layers.Layer):\n",
    "    def __init__(self, num_units):\n",
    "        super(CustomLSTMCell, self).__init__()\n",
    "        self.num_units = num_units\n",
    "        self.state_size = [self.num_units, self.num_units]  # (hidden state, cell state)\n",
    "        self.output_size = self.num_units\n",
    "\n",
    "    def build(self, input_shape):\n",
    "        self.input_dim = input_shape[-1]\n",
    "\n",
    "        # LSTM 가중치 및 바이어스 초기화\n",
    "        self.W_xi = self.add_weight(shape=(self.input_dim, self.num_units), initializer='random_normal', name='W_xi')\n",
    "        self.W_hi = self.add_weight(shape=(self.num_units, self.num_units), initializer='random_normal', name='W_hi')\n",
    "        self.b_i = self.add_weight(shape=(self.num_units,), initializer='zeros', name='b_i')\n",
    "\n",
    "        self.W_xf = self.add_weight(shape=(self.input_dim, self.num_units), initializer='random_normal', name='W_xf')\n",
    "        self.W_hf = self.add_weight(shape=(self.num_units, self.num_units), initializer='random_normal', name='W_hf')\n",
    "        self.b_f = self.add_weight(shape=(self.num_units,), initializer='zeros', name='b_f')\n",
    "\n",
    "        self.W_xc = self.add_weight(shape=(self.input_dim, self.num_units), initializer='random_normal', name='W_xc')\n",
    "        self.W_hc = self.add_weight(shape=(self.num_units, self.num_units), initializer='random_normal', name='W_hc')\n",
    "        self.b_c = self.add_weight(shape=(self.num_units,), initializer='zeros', name='b_c')\n",
    "\n",
    "        self.W_xo = self.add_weight(shape=(self.input_dim, self.num_units), initializer='random_normal', name='W_xo')\n",
    "        self.W_ho = self.add_weight(shape=(self.num_units, self.num_units), initializer='random_normal', name='W_ho')\n",
    "        self.b_o = self.add_weight(shape=(self.num_units,), initializer='zeros', name='b_o')\n",
    "\n",
    "    def call(self, inputs, states):\n",
    "        h, c = states\n",
    "\n",
    "        # 입력 게이트 계산\n",
    "        i = tf.sigmoid(tf.matmul(inputs, self.W_xi) + tf.matmul(h, self.W_hi) + self.b_i)\n",
    "\n",
    "        # 포겟 게이트 계산\n",
    "        f = tf.sigmoid(tf.matmul(inputs, self.W_xf) + tf.matmul(h, self.W_hf) + self.b_f)\n",
    "\n",
    "        # 셀 상태 업데이트\n",
    "        c_new = f * c + i * tf.tanh(tf.matmul(inputs, self.W_xc) + tf.matmul(h, self.W_hc) + self.b_c)\n",
    "\n",
    "        # 출력 게이트 계산\n",
    "        o = tf.sigmoid(tf.matmul(inputs, self.W_xo) + tf.matmul(h, self.W_ho) + self.b_o)\n",
    "\n",
    "        # 새로운 출력 계산\n",
    "        h_new = o * tf.tanh(c_new)\n",
    "\n",
    "        return h_new, [h_new, c_new]\n",
    "\n",
    "# 모델 정의\n",
    "class RenewableEnergyModel(tf.keras.Model):\n",
    "    def __init__(self, num_nodes, embedding_size, num_features, dropout_rate):\n",
    "        super(RenewableEnergyModel, self).__init__()\n",
    "        self.embedding = Dense(embedding_size, activation='relu')\n",
    "        self.lstm1 = tf.keras.layers.RNN(CustomLSTMCell(num_nodes), return_sequences=True)\n",
    "        self.lstm2 = tf.keras.layers.RNN(CustomLSTMCell(num_nodes))\n",
    "        self.dropout = Dropout(dropout_rate)\n",
    "        self.dense = Dense(num_features)\n",
    "    \n",
    "    def call(self, inputs, training=False):\n",
    "        x = self.embedding(inputs)\n",
    "        x = self.lstm1(x)\n",
    "        x = self.lstm2(x)\n",
    "        if training:\n",
    "            x = self.dropout(x, training=training)\n",
    "        return self.dense(x)\n",
    "\n",
    "# 입력 형태 정의\n",
    "inputs = Input(shape=(num_unrollings, num_features))\n",
    "model = RenewableEnergyModel(num_nodes, embedding_size, num_features, keep_prob_train)\n",
    "outputs = model(inputs)\n",
    "\n",
    "# 모델 컴파일\n",
    "model = tf.keras.Model(inputs=inputs, outputs=outputs)\n",
    "model.compile(optimizer='adam', loss='mse')\n",
    "\n",
    "# 모델 요약 출력\n",
    "model.summary()\n"
   ]
  },
  {
   "cell_type": "code",
   "execution_count": 28,
   "metadata": {},
   "outputs": [
    {
     "name": "stdout",
     "output_type": "stream",
     "text": [
      "(71855, 10, 11) (71855, 11)\n",
      "(17957, 10, 11) (17957, 11)\n"
     ]
    }
   ],
   "source": [
    "def create_sequences(data, seq_length):\n",
    "    xs = []\n",
    "    ys = []\n",
    "    for i in range(len(data) - seq_length):\n",
    "        x = data.iloc[i:i+seq_length].values\n",
    "        y = data.iloc[i+seq_length].values\n",
    "        xs.append(x)\n",
    "        ys.append(y)\n",
    "    return np.array(xs), np.array(ys)\n",
    "\n",
    "X_train, y_train = create_sequences(train_data, num_unrollings)\n",
    "X_test, y_test = create_sequences(test_data, num_unrollings)\n",
    "\n",
    "print(X_train.shape, y_train.shape)\n",
    "print(X_test.shape, y_test.shape)\n"
   ]
  },
  {
   "cell_type": "code",
   "execution_count": 29,
   "metadata": {},
   "outputs": [
    {
     "name": "stdout",
     "output_type": "stream",
     "text": [
      "Epoch 1/50\n",
      "\u001b[1m2021/2021\u001b[0m \u001b[32m━━━━━━━━━━━━━━━━━━━━\u001b[0m\u001b[37m\u001b[0m \u001b[1m36s\u001b[0m 13ms/step - loss: 788021.6250 - val_loss: 1392974.3750\n",
      "Epoch 2/50\n",
      "\u001b[1m2021/2021\u001b[0m \u001b[32m━━━━━━━━━━━━━━━━━━━━\u001b[0m\u001b[37m\u001b[0m \u001b[1m43s\u001b[0m 21ms/step - loss: 672568.3125 - val_loss: 1260788.2500\n",
      "Epoch 3/50\n",
      "\u001b[1m2021/2021\u001b[0m \u001b[32m━━━━━━━━━━━━━━━━━━━━\u001b[0m\u001b[37m\u001b[0m \u001b[1m34s\u001b[0m 17ms/step - loss: 587970.6875 - val_loss: 1147270.8750\n",
      "Epoch 4/50\n",
      "\u001b[1m2021/2021\u001b[0m \u001b[32m━━━━━━━━━━━━━━━━━━━━\u001b[0m\u001b[37m\u001b[0m \u001b[1m39s\u001b[0m 19ms/step - loss: 509272.6562 - val_loss: 1045169.1875\n",
      "Epoch 5/50\n",
      "\u001b[1m2021/2021\u001b[0m \u001b[32m━━━━━━━━━━━━━━━━━━━━\u001b[0m\u001b[37m\u001b[0m \u001b[1m41s\u001b[0m 20ms/step - loss: 441343.0000 - val_loss: 951962.6875\n",
      "Epoch 6/50\n",
      "\u001b[1m2021/2021\u001b[0m \u001b[32m━━━━━━━━━━━━━━━━━━━━\u001b[0m\u001b[37m\u001b[0m \u001b[1m35s\u001b[0m 17ms/step - loss: 382575.9062 - val_loss: 867588.1250\n",
      "Epoch 7/50\n",
      "\u001b[1m2021/2021\u001b[0m \u001b[32m━━━━━━━━━━━━━━━━━━━━\u001b[0m\u001b[37m\u001b[0m \u001b[1m26s\u001b[0m 13ms/step - loss: 331884.4375 - val_loss: 791299.0000\n",
      "Epoch 8/50\n",
      "\u001b[1m2021/2021\u001b[0m \u001b[32m━━━━━━━━━━━━━━━━━━━━\u001b[0m\u001b[37m\u001b[0m \u001b[1m26s\u001b[0m 13ms/step - loss: 290878.6875 - val_loss: 722902.6875\n",
      "Epoch 9/50\n",
      "\u001b[1m2021/2021\u001b[0m \u001b[32m━━━━━━━━━━━━━━━━━━━━\u001b[0m\u001b[37m\u001b[0m \u001b[1m27s\u001b[0m 13ms/step - loss: 254077.7656 - val_loss: 661315.1250\n",
      "Epoch 10/50\n",
      "\u001b[1m2021/2021\u001b[0m \u001b[32m━━━━━━━━━━━━━━━━━━━━\u001b[0m\u001b[37m\u001b[0m \u001b[1m24s\u001b[0m 12ms/step - loss: 224100.6094 - val_loss: 604827.9375\n",
      "Epoch 11/50\n",
      "\u001b[1m2021/2021\u001b[0m \u001b[32m━━━━━━━━━━━━━━━━━━━━\u001b[0m\u001b[37m\u001b[0m \u001b[1m33s\u001b[0m 16ms/step - loss: 202368.4688 - val_loss: 555884.8750\n",
      "Epoch 12/50\n",
      "\u001b[1m2021/2021\u001b[0m \u001b[32m━━━━━━━━━━━━━━━━━━━━\u001b[0m\u001b[37m\u001b[0m \u001b[1m41s\u001b[0m 20ms/step - loss: 184011.9688 - val_loss: 516296.5312\n",
      "Epoch 13/50\n",
      "\u001b[1m2021/2021\u001b[0m \u001b[32m━━━━━━━━━━━━━━━━━━━━\u001b[0m\u001b[37m\u001b[0m \u001b[1m43s\u001b[0m 21ms/step - loss: 168356.0156 - val_loss: 485505.0000\n",
      "Epoch 14/50\n",
      "\u001b[1m2021/2021\u001b[0m \u001b[32m━━━━━━━━━━━━━━━━━━━━\u001b[0m\u001b[37m\u001b[0m \u001b[1m43s\u001b[0m 21ms/step - loss: 156776.9062 - val_loss: 461868.1250\n",
      "Epoch 15/50\n",
      "\u001b[1m2021/2021\u001b[0m \u001b[32m━━━━━━━━━━━━━━━━━━━━\u001b[0m\u001b[37m\u001b[0m \u001b[1m43s\u001b[0m 21ms/step - loss: 149465.9062 - val_loss: 443802.6875\n",
      "Epoch 16/50\n",
      "\u001b[1m2021/2021\u001b[0m \u001b[32m━━━━━━━━━━━━━━━━━━━━\u001b[0m\u001b[37m\u001b[0m \u001b[1m43s\u001b[0m 21ms/step - loss: 142554.6250 - val_loss: 429990.6250\n",
      "Epoch 17/50\n",
      "\u001b[1m2021/2021\u001b[0m \u001b[32m━━━━━━━━━━━━━━━━━━━━\u001b[0m\u001b[37m\u001b[0m \u001b[1m44s\u001b[0m 22ms/step - loss: 137270.2969 - val_loss: 420146.5625\n",
      "Epoch 18/50\n",
      "\u001b[1m2021/2021\u001b[0m \u001b[32m━━━━━━━━━━━━━━━━━━━━\u001b[0m\u001b[37m\u001b[0m \u001b[1m43s\u001b[0m 21ms/step - loss: 136203.8906 - val_loss: 413793.8125\n",
      "Epoch 19/50\n",
      "\u001b[1m2021/2021\u001b[0m \u001b[32m━━━━━━━━━━━━━━━━━━━━\u001b[0m\u001b[37m\u001b[0m \u001b[1m82s\u001b[0m 21ms/step - loss: 135699.2031 - val_loss: 410244.7500\n",
      "Epoch 20/50\n",
      "\u001b[1m2021/2021\u001b[0m \u001b[32m━━━━━━━━━━━━━━━━━━━━\u001b[0m\u001b[37m\u001b[0m \u001b[1m30s\u001b[0m 15ms/step - loss: 136611.9062 - val_loss: 408465.5938\n",
      "Epoch 21/50\n",
      "\u001b[1m2021/2021\u001b[0m \u001b[32m━━━━━━━━━━━━━━━━━━━━\u001b[0m\u001b[37m\u001b[0m \u001b[1m24s\u001b[0m 12ms/step - loss: 135141.8438 - val_loss: 407317.6875\n",
      "Epoch 22/50\n",
      "\u001b[1m2021/2021\u001b[0m \u001b[32m━━━━━━━━━━━━━━━━━━━━\u001b[0m\u001b[37m\u001b[0m \u001b[1m24s\u001b[0m 12ms/step - loss: 134716.2656 - val_loss: 407305.0000\n",
      "Epoch 23/50\n",
      "\u001b[1m2021/2021\u001b[0m \u001b[32m━━━━━━━━━━━━━━━━━━━━\u001b[0m\u001b[37m\u001b[0m \u001b[1m24s\u001b[0m 12ms/step - loss: 135697.9844 - val_loss: 407263.3125\n",
      "Epoch 24/50\n",
      "\u001b[1m2021/2021\u001b[0m \u001b[32m━━━━━━━━━━━━━━━━━━━━\u001b[0m\u001b[37m\u001b[0m \u001b[1m25s\u001b[0m 12ms/step - loss: 134734.6875 - val_loss: 406507.2500\n",
      "Epoch 25/50\n",
      "\u001b[1m2021/2021\u001b[0m \u001b[32m━━━━━━━━━━━━━━━━━━━━\u001b[0m\u001b[37m\u001b[0m \u001b[1m17s\u001b[0m 8ms/step - loss: 135317.9219 - val_loss: 406768.6875\n",
      "Epoch 26/50\n",
      "\u001b[1m2021/2021\u001b[0m \u001b[32m━━━━━━━━━━━━━━━━━━━━\u001b[0m\u001b[37m\u001b[0m \u001b[1m19s\u001b[0m 9ms/step - loss: 135780.0000 - val_loss: 406764.6250\n",
      "Epoch 27/50\n",
      "\u001b[1m2021/2021\u001b[0m \u001b[32m━━━━━━━━━━━━━━━━━━━━\u001b[0m\u001b[37m\u001b[0m \u001b[1m18s\u001b[0m 9ms/step - loss: 134815.1875 - val_loss: 406703.0000\n",
      "Epoch 28/50\n",
      "\u001b[1m2021/2021\u001b[0m \u001b[32m━━━━━━━━━━━━━━━━━━━━\u001b[0m\u001b[37m\u001b[0m \u001b[1m18s\u001b[0m 9ms/step - loss: 134734.2969 - val_loss: 406748.6562\n",
      "Epoch 29/50\n",
      "\u001b[1m2021/2021\u001b[0m \u001b[32m━━━━━━━━━━━━━━━━━━━━\u001b[0m\u001b[37m\u001b[0m \u001b[1m22s\u001b[0m 11ms/step - loss: 135302.9531 - val_loss: 406812.5625\n",
      "Epoch 30/50\n",
      "\u001b[1m2021/2021\u001b[0m \u001b[32m━━━━━━━━━━━━━━━━━━━━\u001b[0m\u001b[37m\u001b[0m \u001b[1m19s\u001b[0m 10ms/step - loss: 135839.6094 - val_loss: 406960.5000\n",
      "Epoch 31/50\n",
      "\u001b[1m2021/2021\u001b[0m \u001b[32m━━━━━━━━━━━━━━━━━━━━\u001b[0m\u001b[37m\u001b[0m \u001b[1m19s\u001b[0m 10ms/step - loss: 135336.5781 - val_loss: 406773.0625\n",
      "Epoch 32/50\n",
      "\u001b[1m2021/2021\u001b[0m \u001b[32m━━━━━━━━━━━━━━━━━━━━\u001b[0m\u001b[37m\u001b[0m \u001b[1m19s\u001b[0m 9ms/step - loss: 136006.4844 - val_loss: 406986.2812\n",
      "Epoch 33/50\n",
      "\u001b[1m2021/2021\u001b[0m \u001b[32m━━━━━━━━━━━━━━━━━━━━\u001b[0m\u001b[37m\u001b[0m \u001b[1m18s\u001b[0m 9ms/step - loss: 135458.4844 - val_loss: 406841.4375\n",
      "Epoch 34/50\n",
      "\u001b[1m2021/2021\u001b[0m \u001b[32m━━━━━━━━━━━━━━━━━━━━\u001b[0m\u001b[37m\u001b[0m \u001b[1m17s\u001b[0m 9ms/step - loss: 135541.8438 - val_loss: 406752.9375\n",
      "Epoch 35/50\n",
      "\u001b[1m2021/2021\u001b[0m \u001b[32m━━━━━━━━━━━━━━━━━━━━\u001b[0m\u001b[37m\u001b[0m \u001b[1m18s\u001b[0m 9ms/step - loss: 136042.0781 - val_loss: 406561.3438\n",
      "Epoch 36/50\n",
      "\u001b[1m2021/2021\u001b[0m \u001b[32m━━━━━━━━━━━━━━━━━━━━\u001b[0m\u001b[37m\u001b[0m \u001b[1m16s\u001b[0m 8ms/step - loss: 135575.7656 - val_loss: 406735.9375\n",
      "Epoch 37/50\n",
      "\u001b[1m2021/2021\u001b[0m \u001b[32m━━━━━━━━━━━━━━━━━━━━\u001b[0m\u001b[37m\u001b[0m \u001b[1m17s\u001b[0m 8ms/step - loss: 135324.7344 - val_loss: 406831.5312\n",
      "Epoch 38/50\n",
      "\u001b[1m2021/2021\u001b[0m \u001b[32m━━━━━━━━━━━━━━━━━━━━\u001b[0m\u001b[37m\u001b[0m \u001b[1m17s\u001b[0m 8ms/step - loss: 134589.7812 - val_loss: 406947.0625\n",
      "Epoch 39/50\n",
      "\u001b[1m2021/2021\u001b[0m \u001b[32m━━━━━━━━━━━━━━━━━━━━\u001b[0m\u001b[37m\u001b[0m \u001b[1m17s\u001b[0m 9ms/step - loss: 135060.2969 - val_loss: 407020.9375\n",
      "Epoch 40/50\n",
      "\u001b[1m2021/2021\u001b[0m \u001b[32m━━━━━━━━━━━━━━━━━━━━\u001b[0m\u001b[37m\u001b[0m \u001b[1m16s\u001b[0m 8ms/step - loss: 134578.9062 - val_loss: 406950.9375\n",
      "Epoch 41/50\n",
      "\u001b[1m2021/2021\u001b[0m \u001b[32m━━━━━━━━━━━━━━━━━━━━\u001b[0m\u001b[37m\u001b[0m \u001b[1m16s\u001b[0m 8ms/step - loss: 135673.7812 - val_loss: 407009.5000\n",
      "Epoch 42/50\n",
      "\u001b[1m2021/2021\u001b[0m \u001b[32m━━━━━━━━━━━━━━━━━━━━\u001b[0m\u001b[37m\u001b[0m \u001b[1m17s\u001b[0m 9ms/step - loss: 134986.7812 - val_loss: 407003.8438\n",
      "Epoch 43/50\n",
      "\u001b[1m2021/2021\u001b[0m \u001b[32m━━━━━━━━━━━━━━━━━━━━\u001b[0m\u001b[37m\u001b[0m \u001b[1m17s\u001b[0m 9ms/step - loss: 134265.6562 - val_loss: 406638.9688\n",
      "Epoch 44/50\n",
      "\u001b[1m2021/2021\u001b[0m \u001b[32m━━━━━━━━━━━━━━━━━━━━\u001b[0m\u001b[37m\u001b[0m \u001b[1m17s\u001b[0m 8ms/step - loss: 135889.2500 - val_loss: 406654.2500\n",
      "Epoch 45/50\n",
      "\u001b[1m2021/2021\u001b[0m \u001b[32m━━━━━━━━━━━━━━━━━━━━\u001b[0m\u001b[37m\u001b[0m \u001b[1m17s\u001b[0m 8ms/step - loss: 134768.7188 - val_loss: 406928.9375\n",
      "Epoch 46/50\n",
      "\u001b[1m2021/2021\u001b[0m \u001b[32m━━━━━━━━━━━━━━━━━━━━\u001b[0m\u001b[37m\u001b[0m \u001b[1m20s\u001b[0m 10ms/step - loss: 134932.2812 - val_loss: 406460.8438\n",
      "Epoch 47/50\n",
      "\u001b[1m2021/2021\u001b[0m \u001b[32m━━━━━━━━━━━━━━━━━━━━\u001b[0m\u001b[37m\u001b[0m \u001b[1m20s\u001b[0m 10ms/step - loss: 134877.0469 - val_loss: 406826.8438\n",
      "Epoch 48/50\n",
      "\u001b[1m2021/2021\u001b[0m \u001b[32m━━━━━━━━━━━━━━━━━━━━\u001b[0m\u001b[37m\u001b[0m \u001b[1m18s\u001b[0m 9ms/step - loss: 135429.0625 - val_loss: 406873.0938\n",
      "Epoch 49/50\n",
      "\u001b[1m2021/2021\u001b[0m \u001b[32m━━━━━━━━━━━━━━━━━━━━\u001b[0m\u001b[37m\u001b[0m \u001b[1m18s\u001b[0m 9ms/step - loss: 135608.4219 - val_loss: 406807.5312\n",
      "Epoch 50/50\n",
      "\u001b[1m2021/2021\u001b[0m \u001b[32m━━━━━━━━━━━━━━━━━━━━\u001b[0m\u001b[37m\u001b[0m \u001b[1m18s\u001b[0m 9ms/step - loss: 136069.7188 - val_loss: 407102.8125\n",
      "\u001b[1m562/562\u001b[0m \u001b[32m━━━━━━━━━━━━━━━━━━━━\u001b[0m\u001b[37m\u001b[0m \u001b[1m2s\u001b[0m 3ms/step - loss: 630584.1875\n",
      "Test Loss: 747454.125\n"
     ]
    }
   ],
   "source": [
    "history = model.fit(X_train, y_train, epochs=50, batch_size=batch_size, validation_split=0.1)\n",
    "\n",
    "# 모델 평가\n",
    "loss = model.evaluate(X_test, y_test)\n",
    "print(f\"Test Loss: {loss}\")\n"
   ]
  },
  {
   "cell_type": "code",
   "execution_count": 30,
   "metadata": {},
   "outputs": [
    {
     "name": "stdout",
     "output_type": "stream",
     "text": [
      "\u001b[1m562/562\u001b[0m \u001b[32m━━━━━━━━━━━━━━━━━━━━\u001b[0m\u001b[37m\u001b[0m \u001b[1m3s\u001b[0m 5ms/step\n"
     ]
    },
    {
     "data": {
      "image/png": "[encoded data removed]",
      "text/plain": [
       "<Figure size 1200x600 with 1 Axes>"
      ]
     },
     "metadata": {},
     "output_type": "display_data"
    }
   ],
   "source": [
    "import matplotlib.pyplot as plt\n",
    "\n",
    "# 예측 수행\n",
    "predictions = model.predict(X_test)\n",
    "\n",
    "# 예측 결과와 실제 값을 비교하는 그래프 그리기\n",
    "plt.figure(figsize=(12, 6))\n",
    "plt.plot(y_test[:, -1], label='Actual')\n",
    "plt.plot(predictions[:, -1], label='Predicted')\n",
    "plt.legend()\n",
    "plt.show()\n"
   ]
  },
  {
   "cell_type": "code",
   "execution_count": null,
   "metadata": {},
   "outputs": [],
   "source": []
  }
 ],
 "metadata": {
  "kernelspec": {
   "display_name": "Python 3",
   "language": "python",
   "name": "python3"
  },
  "language_info": {
   "codemirror_mode": {
    "name": "ipython",
    "version": 3
   },
   "file_extension": ".py",
   "mimetype": "text/x-python",
   "name": "python",
   "nbconvert_exporter": "python",
   "pygments_lexer": "ipython3",
   "version": "3.10.2"
  }
 },
 "nbformat": 4,
 "nbformat_minor": 2
}
