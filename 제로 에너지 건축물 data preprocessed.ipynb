{
 "cells": [
  {
   "cell_type": "code",
   "execution_count": 1,
   "metadata": {},
   "outputs": [],
   "source": [
    "import pandas as pd\n",
    "\n",
    "# 데이터 불러오기\n",
    "df = pd.read_csv('C:/Users/82106/Desktop/데이터 분석 프로젝트 2/데이콘 빅데이터 분석/data/한국에너지공단_제로에너지건축물 인증현황_20231231.csv',encoding='cp949')"
   ]
  },
  {
   "cell_type": "code",
   "execution_count": 2,
   "metadata": {},
   "outputs": [],
   "source": [
    "# 공백 제거 및 데이터 타입 변환\n",
    "df['에너지자립률'] = df['에너지자립률'].str.replace(' ', '').astype('float64')\n",
    "\n",
    "# 데이터 타입 확인 및 변환\n",
    "df['인증구분'] = df['인증구분'].astype('object')\n",
    "df['건물주용도'] = df['건물주용도'].astype('object')\n",
    "df['건물용도'] = df['건물용도'].astype('object')\n",
    "df['지역'] = df['지역'].astype('object')\n",
    "df['건축물명'] = df['건축물명'].astype('object')\n",
    "df['업체명'] = df['업체명'].astype('object')\n",
    "df['제로에너지건축물 인증등급(ZEB)'] = df['제로에너지건축물 인증등급(ZEB)'].astype('object')\n",
    "df['인증일자'] = pd.to_datetime(df['인증일자'], errors='coerce')\n"
   ]
  },
  {
   "cell_type": "code",
   "execution_count": 3,
   "metadata": {},
   "outputs": [],
   "source": [
    "# 결측값 확인\n",
    "missing_values = df.isnull().sum()"
   ]
  },
  {
   "cell_type": "code",
   "execution_count": 4,
   "metadata": {},
   "outputs": [
    {
     "data": {
      "text/plain": [
       "인증구분                  0\n",
       "건물주용도                 0\n",
       "건물용도                  0\n",
       "에너지자립률                0\n",
       "지역                    0\n",
       "건축물명                  0\n",
       "업체명                   0\n",
       "제로에너지건축물 인증등급(ZEB)    0\n",
       "인증일자                  0\n",
       "dtype: int64"
      ]
     },
     "execution_count": 4,
     "metadata": {},
     "output_type": "execute_result"
    }
   ],
   "source": [
    "missing_values"
   ]
  },
  {
   "cell_type": "code",
   "execution_count": 5,
   "metadata": {},
   "outputs": [
    {
     "data": {
      "image/png": "[encoded data removed]",
      "text/plain": [
       "<Figure size 1000x600 with 1 Axes>"
      ]
     },
     "metadata": {},
     "output_type": "display_data"
    }
   ],
   "source": [
    "import matplotlib.pyplot as plt\n",
    "\n",
    "#한글폰트\n",
    "import matplotlib.pyplot as plt\n",
    "import matplotlib.font_manager as fm\n",
    "\n",
    "# 한글 폰트 경로 설정\n",
    "font_path = 'C:/Windows/Fonts/malgun.ttf'  # 여기서 'malgun.ttf'는 예시로 사용한 것이며, 실제 한글 폰트 파일로 변경해야 합니다.\n",
    "font_name = fm.FontProperties(fname=font_path).get_name()\n",
    "plt.rc('font', family=font_name)\n",
    "\n",
    "# 박스플롯 그리기\n",
    "plt.figure(figsize=(10, 6))\n",
    "plt.boxplot(df['에너지자립률'], vert=False)\n",
    "plt.title('Boxplot of 에너지자립률')\n",
    "plt.xlabel('에너지자립률')\n",
    "plt.show()"
   ]
  },
  {
   "cell_type": "code",
   "execution_count": 6,
   "metadata": {},
   "outputs": [],
   "source": [
    "# 에너지자립률이 200 이상인 데이터 삭제\n",
    "df = df[df['에너지자립률'] < 200]"
   ]
  },
  {
   "cell_type": "code",
   "execution_count": 7,
   "metadata": {},
   "outputs": [],
   "source": [
    "from sklearn.preprocessing import LabelEncoder\n",
    "\n",
    "# 라벨 인코더 생성\n",
    "label_encoder = LabelEncoder()\n",
    "\n",
    "# 라벨 인코딩할 열 목록\n",
    "categorical_columns = ['인증구분', '건물주용도', '건물용도', '지역', '건축물명', '업체명', '제로에너지건축물 인증등급(ZEB)']\n",
    "\n",
    "# 각 열에 대해 라벨 인코딩 수행\n",
    "for col in categorical_columns:\n",
    "    df[col] = label_encoder.fit_transform(df[col])"
   ]
  },
  {
   "cell_type": "code",
   "execution_count": 9,
   "metadata": {},
   "outputs": [
    {
     "name": "stdout",
     "output_type": "stream",
     "text": [
      "라벨 인코딩된 데이터 프레임의 일부:\n",
      "   인증구분  건물주용도  건물용도  에너지자립률  지역  건축물명  업체명  제로에너지건축물 인증등급(ZEB)       인증일자\n",
      "0     0     24     1   45.57   6  3449  831                   3 2023-12-29\n",
      "1     1      3     1   36.09  16  2421  781                   4 2023-12-29\n",
      "2     1      3     1   32.80   1   135  159                   4 2023-12-29\n",
      "3     1     24     1   34.78  10  2778  822                   4 2023-12-29\n",
      "4     1      4     1   44.42   5    18  354                   3 2023-12-29\n"
     ]
    }
   ],
   "source": [
    "# 7. 결과 확인\n",
    "print(\"라벨 인코딩된 데이터 프레임의 일부:\")\n",
    "print(df.head())"
   ]
  },
  {
   "cell_type": "code",
   "execution_count": 10,
   "metadata": {},
   "outputs": [],
   "source": [
    "# 7. 형식 변환\n",
    "df['인증일자'] = pd.to_datetime(df['인증일자'], format='%Y-%m-%d', errors='coerce')"
   ]
  },
  {
   "cell_type": "code",
   "execution_count": null,
   "metadata": {},
   "outputs": [],
   "source": []
  }
 ],
 "metadata": {
  "kernelspec": {
   "display_name": "Python 3",
   "language": "python",
   "name": "python3"
  },
  "language_info": {
   "codemirror_mode": {
    "name": "ipython",
    "version": 3
   },
   "file_extension": ".py",
   "mimetype": "text/x-python",
   "name": "python",
   "nbconvert_exporter": "python",
   "pygments_lexer": "ipython3",
   "version": "3.10.2"
  }
 },
 "nbformat": 4,
 "nbformat_minor": 2
}
